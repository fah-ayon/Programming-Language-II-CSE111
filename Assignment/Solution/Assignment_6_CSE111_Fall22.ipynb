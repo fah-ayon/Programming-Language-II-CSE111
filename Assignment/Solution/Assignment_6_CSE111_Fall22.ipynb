{
  "nbformat": 4,
  "nbformat_minor": 0,
  "metadata": {
    "colab": {
      "provenance": []
    },
    "kernelspec": {
      "name": "python3",
      "display_name": "Python 3"
    },
    "language_info": {
      "name": "python"
    }
  },
  "cells": [
    {
      "cell_type": "markdown",
      "source": [
        "Problem 1"
      ],
      "metadata": {
        "id": "XCoGEJ-JQ_Du"
      }
    },
    {
      "cell_type": "code",
      "execution_count": null,
      "metadata": {
        "colab": {
          "base_uri": "https://localhost:8080/"
        },
        "id": "ArksJOFN_t6n",
        "outputId": "27170ef1-3007-42e0-b0d4-988485d47d10"
      },
      "outputs": [
        {
          "output_type": "stream",
          "name": "stdout",
          "text": [
            "ID: 1\n",
            "Name: Samin\n",
            "Age: 21\n",
            "CGPA: 3.91\n",
            "-----------------------\n",
            "ID: 2\n",
            "Name: Fahim\n",
            "Age: 21\n",
            "CGPA: 3.85\n",
            "-----------------------\n",
            "ID: 3\n",
            "Name: Tahura\n",
            "Age: 22\n",
            "CGPA: 3.01\n",
            "-----------------------\n",
            "ID: 4\n",
            "Name: Sumaiya\n",
            "Age: 23\n",
            "CGPA: 3.96\n"
          ]
        }
      ],
      "source": [
        "class Student:\n",
        "  stu_id =  0\n",
        "  def __init__(self,name,dept,age,cgpa):\n",
        "    self.name = name\n",
        "    self.dept = dept\n",
        "    self.age = age\n",
        "    self.cgpa =  cgpa\n",
        "    Student.stu_id += 1\n",
        "    self.id = Student.stu_id\n",
        "\n",
        "  def showDetails(self):\n",
        "    print(f'ID: {self.id}\\nName: {self.name}\\nAge: {self.age}\\nCGPA: {self.cgpa}')\n",
        "  \n",
        "  @classmethod\n",
        "  def from_String(cls,info):\n",
        "    name,dept,age,cgpa = info.split('-')\n",
        "    return Student(name,dept,age,cgpa)\n",
        "\n",
        "\n",
        "s1 = Student(\"Samin\", \"CSE\", 21, 3.91)\n",
        "s1.showDetails()\n",
        "print(\"-----------------------\")\n",
        "s2 = Student(\"Fahim\", \"ECE\", 21, 3.85)\n",
        "s2.showDetails()\n",
        "print(\"-----------------------\")\n",
        "s3 = Student(\"Tahura\", \"EEE\", 22, 3.01)\n",
        "s3.showDetails() \n",
        "print(\"-----------------------\")\n",
        "s4 = Student.from_String(\"Sumaiya-BBA-23-3.96\")\n",
        "s4.showDetails() \n"
      ]
    },
    {
      "cell_type": "markdown",
      "source": [
        "Problem 2"
      ],
      "metadata": {
        "id": "VGQcIVKeRCZt"
      }
    },
    {
      "cell_type": "code",
      "source": [
        "class Assassin:\n",
        "  Total_num = 0\n",
        "  def __init__(self,name,rate):\n",
        "    self.name = name\n",
        "    self.rate = rate\n",
        "    Assassin.Total_num += 1\n",
        "  \n",
        "  def printDetails(self):\n",
        "    print(f'Name: {self.name}\\nSuccess Rate: {self.rate}%\\nTotal number of Assassin: {Assassin.Total_num}')\n",
        "\n",
        "  @classmethod\n",
        "  def failureRate(cls,name,rate):\n",
        "    cls.name = name\n",
        "    cls.failure_rate = 100- rate\n",
        "    return Assassin(cls.name, cls.failure_rate)\n",
        "  @classmethod\n",
        "  def failurePercentage(cls,name,rate):\n",
        "    cls.name = name\n",
        "    cls.failure_percentage = 100 - rate\n",
        "    return Assassin(cls.name, cls.failure_percentage)\n",
        "\n",
        "\n",
        "john_wick = Assassin('John Wick', 100)\n",
        "john_wick.printDetails()\n",
        "print('================================')\n",
        "nagisa = Assassin.failureRate(\"Nagisa\", 20)\n",
        "nagisa.printDetails()\n",
        "print('================================')\n",
        "akabane = Assassin.failurePercentage(\"Akabane\", 10)\n",
        "akabane.printDetails()\n"
      ],
      "metadata": {
        "id": "9BTZoN1SRFbF",
        "colab": {
          "base_uri": "https://localhost:8080/"
        },
        "outputId": "e434da1a-566a-4a75-ed04-e40120c7f4c5"
      },
      "execution_count": null,
      "outputs": [
        {
          "output_type": "stream",
          "name": "stdout",
          "text": [
            "Name: John Wick\n",
            "Success Rate: 100%\n",
            "Total number of Assassin: 1\n",
            "================================\n",
            "Name: Nagisa\n",
            "Success Rate: 80%\n",
            "Total number of Assassin: 2\n",
            "================================\n",
            "Name: Akabane\n",
            "Success Rate: 90%\n",
            "Total number of Assassin: 3\n"
          ]
        }
      ]
    },
    {
      "cell_type": "markdown",
      "source": [
        "Problem 3"
      ],
      "metadata": {
        "id": "PWNqcH8y0szr"
      }
    },
    {
      "cell_type": "code",
      "source": [
        "class Passenger:\n",
        "  count = 0\n",
        "  def __init__(self,name):\n",
        "    self.name = name\n",
        "    Passenger.count +=1\n",
        "    self.fare = 450\n",
        "\n",
        "  def set_bag_weight (self,weight):\n",
        "    self.weight = weight\n",
        "    if weight <= 20:\n",
        "      self.fare +=0\n",
        "    if weight >=50 and weight <= 21:\n",
        "      self.fare += 50\n",
        "    if weight > 50:\n",
        "      self.fare += 100\n",
        "\n",
        "  def printDetail(self):\n",
        "    print(f'Name: {self.name}\\nBus Fare: {self.fare}')\n",
        "\n",
        "print('Total Passenger:', Passenger.count)\n",
        "p1 = Passenger(\"Jack\")\n",
        "p1.set_bag_weight(90)\n",
        "p2 = Passenger(\"Carol\")\n",
        "p2.set_bag_weight(10)\n",
        "p3 = Passenger(\"Mike\")\n",
        "p3.set_bag_weight(25)\n",
        "print(\"=========================\")\n",
        "p1.printDetail()\n",
        "print(\"=========================\")\n",
        "p2.printDetail()\n",
        "print(\"=========================\")\n",
        "p3.printDetail()\n",
        "print(\"=========================\")\n",
        "print(\"Total Passenger:\", Passenger.count)"
      ],
      "metadata": {
        "id": "40i9bLxsOMyh",
        "colab": {
          "base_uri": "https://localhost:8080/"
        },
        "outputId": "a24ec812-45aa-45f9-fa23-c69751b9a47c"
      },
      "execution_count": null,
      "outputs": [
        {
          "output_type": "stream",
          "name": "stdout",
          "text": [
            "Total Passenger: 0\n",
            "=========================\n",
            "Name: Jack\n",
            "Bus Fare: 550\n",
            "=========================\n",
            "Name: Carol\n",
            "Bus Fare: 450\n",
            "=========================\n",
            "Name: Mike\n",
            "Bus Fare: 450\n",
            "=========================\n",
            "Total Passenger: 3\n"
          ]
        }
      ]
    },
    {
      "cell_type": "markdown",
      "source": [
        "Problem 4"
      ],
      "metadata": {
        "id": "9CvRiNug0xtO"
      }
    },
    {
      "cell_type": "code",
      "source": [
        "class Travel:\n",
        "  count = 0\n",
        "  def __init__(self,src,dns):\n",
        "    self.src =src\n",
        "    self.dns = dns\n",
        "    self.time = 1\n",
        "    Travel.count += 1\n",
        "    self.count = Travel.count\n",
        "\n",
        "  def display_travel_info(self):\n",
        "    return f'Source : {self.src}\\nDestination: {self.dns}\\nFlight Time: {self.time:05.2f}'\n",
        "\n",
        "  def set_time(self,time):\n",
        "    self.time = time\n",
        "  def set_source(self,src1):\n",
        "    self.src = src1\n",
        "  def set_destination(self,dns1):\n",
        "    self.dns = dns1\n",
        "   \n",
        "\n",
        "print(\"No. of Traveller =\", Travel.count)\n",
        "print(\"=======================\")\n",
        "t1 = Travel(\"Dhaka\",\"India\")\n",
        "print(t1.display_travel_info())\n",
        "print(\"=======================\")\n",
        "t2 = Travel(\"Kuala Lampur\",\"Dhaka\")\n",
        "t2.set_time(23)\n",
        "print(t2.display_travel_info())\n",
        "print(\"=======================\")\n",
        "t3 = Travel(\"Dhaka\",\"New_Zealand\")\n",
        "t3.set_time(15)\n",
        "t3.set_destination(\"Germany\")\n",
        "print(t3.display_travel_info())\n",
        "print(\"=======================\")\n",
        "t4 = Travel(\"Dhaka\",\"India\")\n",
        "t4.set_time(9)\n",
        "t4.set_source(\"Malaysia\")\n",
        "t4.set_destination(\"Canada\")\n",
        "print(t4.display_travel_info())\n",
        "print(\"=======================\")\n",
        "print(\"No. of Traveller =\", Travel.count)"
      ],
      "metadata": {
        "colab": {
          "base_uri": "https://localhost:8080/"
        },
        "id": "_4jyB0lbFivM",
        "outputId": "3524482c-2241-4a05-b122-a2e7fff11097"
      },
      "execution_count": null,
      "outputs": [
        {
          "output_type": "stream",
          "name": "stdout",
          "text": [
            "No. of Traveller = 0\n",
            "=======================\n",
            "Source : Dhaka\n",
            "Destination: India\n",
            "Flight Time: 01.00\n",
            "=======================\n",
            "Source : Kuala Lampur\n",
            "Destination: Dhaka\n",
            "Flight Time: 23.00\n",
            "=======================\n",
            "Source : Dhaka\n",
            "Destination: Germany\n",
            "Flight Time: 15.00\n",
            "=======================\n",
            "Source : Malaysia\n",
            "Destination: Canada\n",
            "Flight Time: 09.00\n",
            "=======================\n",
            "No. of Traveller = 4\n"
          ]
        }
      ]
    },
    {
      "cell_type": "markdown",
      "source": [
        "Problem 5"
      ],
      "metadata": {
        "id": "RrnG3ngR6kXr"
      }
    },
    {
      "cell_type": "code",
      "source": [
        "from datetime import date\n",
        "class Employee:\n",
        "  def __init__(self,name,workingPeriod):\n",
        "    self.name = name\n",
        "    self.workingPeriod = workingPeriod\n",
        "\n",
        "  @classmethod\n",
        "  def employeeByJoiningYear(cls,name,year):\n",
        "    cls.exp = date.today().year - year \n",
        "    return cls(name, cls.exp)\n",
        "\n",
        "  @staticmethod\n",
        "  def experienceCheck(workingPeriod, gen):\n",
        "    if gen == 'male' and workingPeriod <3 :\n",
        "      return \"He is not experienced\"\n",
        "    elif gen == 'female' and workingPeriod <3 :\n",
        "      return \"She is not experienced\"\n",
        "    elif gen == 'male' and workingPeriod >=3 :\n",
        "      return \"He is  experienced\"\n",
        "    elif gen == 'female' and workingPeriod >=3 :\n",
        "      return \"She is experienced\"\n",
        "\n",
        "\n",
        "\n",
        "\n",
        "employee1 = Employee('Dororo', 3)\n",
        "employee2 = Employee.employeeByJoiningYear('Harry', 2016)\n",
        "print(employee1.workingPeriod)\n",
        "print(employee2.workingPeriod)\n",
        "print(employee1.name)\n",
        "print(employee2.name)\n",
        "print(Employee.experienceCheck(2, \"male\"))\n",
        "print(Employee.experienceCheck(3, \"female\"))"
      ],
      "metadata": {
        "colab": {
          "base_uri": "https://localhost:8080/"
        },
        "id": "pxctSdql6kcl",
        "outputId": "0b52429a-e040-4619-d260-7e6812d0b2b6"
      },
      "execution_count": null,
      "outputs": [
        {
          "output_type": "stream",
          "name": "stdout",
          "text": [
            "3\n",
            "6\n",
            "Dororo\n",
            "Harry\n",
            "He is not experienced\n",
            "She is experienced\n"
          ]
        }
      ]
    },
    {
      "cell_type": "markdown",
      "source": [
        "Problem 6"
      ],
      "metadata": {
        "id": "FbCF8mBd--hQ"
      }
    },
    {
      "cell_type": "code",
      "source": [
        "class Laptop:\n",
        "  laptopCount = 0\n",
        "  def __init__(self,name,count):\n",
        "    self.name = name\n",
        "    self.count = count\n",
        "    Laptop.laptopCount += count\n",
        "\n",
        "  @staticmethod\n",
        "  def advantage():\n",
        "    print('Laptops are portable')\n",
        "\n",
        "  @classmethod\n",
        "  def resetCount(cls):\n",
        "    cls.laptopCount = 0\n",
        "\n",
        "\n",
        "\n",
        "\n",
        "\n",
        "lenovo = Laptop(\"Lenovo\", 5);\n",
        "dell = Laptop(\"Dell\", 7);\n",
        "print(lenovo.name, lenovo.count)\n",
        "print(dell.name, dell.count)\n",
        "print(\"Total number of Laptops\", Laptop.laptopCount)\n",
        "Laptop.advantage()\n",
        "Laptop.resetCount()\n",
        "print(\"Total number of Laptops\", Laptop.laptopCount)\n"
      ],
      "metadata": {
        "colab": {
          "base_uri": "https://localhost:8080/"
        },
        "id": "UDsfBbNZFldJ",
        "outputId": "ee37cafd-16c7-4e8e-c2f6-fc1785728619"
      },
      "execution_count": null,
      "outputs": [
        {
          "output_type": "stream",
          "name": "stdout",
          "text": [
            "Lenovo 5\n",
            "Dell 7\n",
            "Total number of Laptops 12\n",
            "Laptops are portable\n",
            "Total number of Laptops 0\n"
          ]
        }
      ]
    },
    {
      "cell_type": "markdown",
      "source": [
        "Problem 7"
      ],
      "metadata": {
        "id": "jrmIl_kU-8JX"
      }
    },
    {
      "cell_type": "code",
      "source": [
        "class Cat:\n",
        "  Number_of_cats = 0\n",
        "  def __init__(self,color,position):\n",
        "    self.color =color\n",
        "    self.position = position\n",
        "    Cat.Number_of_cats +=1\n",
        "    self.num = Cat.Number_of_cats\n",
        "\n",
        "  @classmethod\n",
        "  def no_parameter(cls):\n",
        "    return cls('White','Sitting')\n",
        "\n",
        "  @classmethod\n",
        "  def first_parameter(cls,color):\n",
        "    return cls(color,'sitting')\n",
        "\n",
        "  @classmethod\n",
        "  def second_parameter(cls,position):\n",
        "    return cls(\"Grey\", position)\n",
        "\n",
        "  def changeColor(self,color):\n",
        "    self.color = color\n",
        "\n",
        "  def printCat(self):\n",
        "    print(f'{self.color} cat is {self.position}')\n",
        "\n",
        "\n",
        "print(\"Total number of cats:\", Cat.Number_of_cats)\n",
        "c1 = Cat.no_parameter()\n",
        "c2 = Cat.first_parameter(\"Black\")\n",
        "c3 = Cat(\"Brown\", \"jumping\")\n",
        "c4 = Cat(\"Red\", \"purring\")\n",
        "c5 = Cat.second_parameter(\"playing\")\n",
        "print(\"=======================\")\n",
        "c1.printCat()\n",
        "c2.printCat()\n",
        "c3.printCat()\n",
        "c4.printCat()\n",
        "c5.printCat()\n",
        "c1.changeColor(\"Blue\")\n",
        "c3.changeColor(\"Purple\")\n",
        "c1.printCat()\n",
        "c3.printCat()\n",
        "print(\"=======================\")\n",
        "print(\"Total number of cats:\", Cat.Number_of_cats)\n"
      ],
      "metadata": {
        "colab": {
          "base_uri": "https://localhost:8080/"
        },
        "id": "soJqctdvR2XR",
        "outputId": "d1c89515-f828-44d4-a9ea-24e92cfae7af"
      },
      "execution_count": null,
      "outputs": [
        {
          "output_type": "stream",
          "name": "stdout",
          "text": [
            "Total number of cats: 0\n",
            "=======================\n",
            "White cat is Sitting\n",
            "Black cat is sitting\n",
            "Brown cat is jumping\n",
            "Red cat is purring\n",
            "Grey cat is playing\n",
            "Blue cat is Sitting\n",
            "Purple cat is jumping\n",
            "=======================\n",
            "Total number of cats: 5\n"
          ]
        }
      ]
    },
    {
      "cell_type": "markdown",
      "source": [
        "Problem 8"
      ],
      "metadata": {
        "id": "PeInaAZS-4Zq"
      }
    },
    {
      "cell_type": "code",
      "source": [
        "class Cylinder:\n",
        "  height = 18\n",
        "  radius = 5\n",
        "  def __init__(self,radius,height):\n",
        "    self.height = height\n",
        "    self.radius = radius\n",
        "    print(f'Defult radius= {Cylinder.radius} and height = {Cylinder.height}\\nUpdated: radius = {self.radius} and height= {self.height}')\n",
        "    Cylinder.height = self.height\n",
        "    Cylinder.radius = self.radius\n",
        "\n",
        "  @staticmethod\n",
        "  def area (radius,height):\n",
        "    area = (2*3.1415926535897932384626433832795*Cylinder.radius**2)+(2*3.141592653589793238462643383*Cylinder.radius*Cylinder.height)\n",
        "    print('Area', area)\n",
        "  @staticmethod\n",
        "  def volume(radius,height):\n",
        "    volume = 3.141592653589793238462643383*Cylinder.height*Cylinder.radius**2\n",
        "    print('Volume', volume)\n",
        "\n",
        "  @classmethod\n",
        "  def swap(cls,height,radius):\n",
        "    return Cylinder(radius,height)\n",
        "\n",
        "  @classmethod\n",
        "  def changeFormat(cls,info):\n",
        "    list1 = info.split(\"-\")\n",
        "    return Cylinder(int(list1[0]),int(list1[1]))\n",
        "    \n",
        "c1 = Cylinder(0,0)\n",
        "Cylinder.area(c1.radius,c1.height)\n",
        "Cylinder.volume(c1.radius,c1.height)\n",
        "print(\"===============================\")\n",
        "c2 = Cylinder.swap(8,3)\n",
        "c2.area(c2.radius,c2.height)\n",
        "c2.volume(c2.radius,c2.height)\n",
        "print(\"===============================\")\n",
        "c3 = Cylinder.changeFormat(\"7-13\")\n",
        "c3.area(c3.radius,c3.height)\n",
        "c3.volume(c3.radius,c3.height)\n",
        "print(\"===============================\")\n",
        "Cylinder(0.3,5.56).area(Cylinder.radius,Cylinder.height)\n",
        "print(\"===============================\")\n",
        "Cylinder(3,5).volume(Cylinder.radius,Cylinder.height)"
      ],
      "metadata": {
        "colab": {
          "base_uri": "https://localhost:8080/"
        },
        "id": "Eb9AbyH1-4fX",
        "outputId": "bd428189-34da-4a3e-86fd-730200e05d56"
      },
      "execution_count": null,
      "outputs": [
        {
          "output_type": "stream",
          "name": "stdout",
          "text": [
            "Defult radius= 5 and height = 18\n",
            "Updated: radius = 0 and height= 0\n",
            "Area 0.0\n",
            "Volume 0.0\n",
            "===============================\n",
            "Defult radius= 0 and height = 0\n",
            "Updated: radius = 3 and height= 8\n",
            "Area 207.34511513692635\n",
            "Volume 226.1946710584651\n",
            "===============================\n",
            "Defult radius= 3 and height = 8\n",
            "Updated: radius = 7 and height= 13\n",
            "Area 879.645943005142\n",
            "Volume 2001.1945203366984\n",
            "===============================\n",
            "Defult radius= 7 and height = 13\n",
            "Updated: radius = 0.3 and height= 5.56\n",
            "Area 11.045839770021713\n",
            "===============================\n",
            "Defult radius= 0.3 and height = 5.56\n",
            "Updated: radius = 3 and height= 5\n",
            "Volume 141.3716694115407\n"
          ]
        }
      ]
    },
    {
      "cell_type": "markdown",
      "source": [
        "Problem 9"
      ],
      "metadata": {
        "id": "TKr5BG6l_Bka"
      }
    },
    {
      "cell_type": "code",
      "source": [
        "class Student:\n",
        "  count1 = 0\n",
        "  count2 = 0\n",
        "  count3 = 0\n",
        "  def __init__(self,name,dept, inst = \"BRAC University\"):\n",
        "    self.name = name\n",
        "    self.dept = dept\n",
        "    self.inst = inst\n",
        "    Student.count1 +=1\n",
        "    if self.inst == \"BRAC University\":\n",
        "      Student.count2 +=1\n",
        "    else:\n",
        "      Student.count3 +=1\n",
        "  @classmethod\n",
        "  def printDetails(cls):\n",
        "    print(f'Total Student(s): {Student.count1}\\nBRAC University Student(s): {Student.count2}\\nOther Institution Student(s): {Student.count3}')\n",
        "\n",
        "\n",
        "  @classmethod\n",
        "  def createStudent(cls,name,dept,inst='BRAC University'):\n",
        "    return Student(name,dept,inst)\n",
        "  \n",
        "  \n",
        "  def individualDetail(self):\n",
        "    print(f'Name: {self.name}\\nDepartment: {self.dept}\\nInstitution: {self.inst}')\n",
        "\n",
        "\n",
        "Student.printDetails()\n",
        "print('#########################')\n",
        "mikasa = Student('Mikasa Ackerman', \"CSE\")\n",
        "mikasa.individualDetail()\n",
        "print('------------------------------------------')\n",
        "Student.printDetails()\n",
        "print('========================')\n",
        "harry = Student.createStudent('Harry Potter', \"Defence Against Dark Arts\", \"Hogwarts School\")\n",
        "harry.individualDetail()\n",
        "print('-------------------------------------------')\n",
        "Student.printDetails()\n",
        "print('=========================')\n",
        "levi = Student.createStudent(\"Levi Ackerman\", \"CSE\")\n",
        "levi.individualDetail()\n",
        "print('--------------------------------------------')\n",
        "Student.printDetails()"
      ],
      "metadata": {
        "colab": {
          "base_uri": "https://localhost:8080/"
        },
        "id": "UVszxNMv_Bza",
        "outputId": "ebde5928-5aba-42f9-bb50-1114e5fe7066"
      },
      "execution_count": null,
      "outputs": [
        {
          "output_type": "stream",
          "name": "stdout",
          "text": [
            "Total Student(s): 0\n",
            "BRAC University Student(s): 0\n",
            "Other Institution Student(s): 0\n",
            "#########################\n",
            "Name: Mikasa Ackerman\n",
            "Department: CSE\n",
            "Institution: BRAC University\n",
            "------------------------------------------\n",
            "Total Student(s): 1\n",
            "BRAC University Student(s): 1\n",
            "Other Institution Student(s): 0\n",
            "========================\n",
            "Name: Harry Potter\n",
            "Department: Defence Against Dark Arts\n",
            "Institution: Hogwarts School\n",
            "-------------------------------------------\n",
            "Total Student(s): 2\n",
            "BRAC University Student(s): 1\n",
            "Other Institution Student(s): 1\n",
            "=========================\n",
            "Name: Levi Ackerman\n",
            "Department: CSE\n",
            "Institution: BRAC University\n",
            "--------------------------------------------\n",
            "Total Student(s): 3\n",
            "BRAC University Student(s): 2\n",
            "Other Institution Student(s): 1\n"
          ]
        }
      ]
    },
    {
      "cell_type": "markdown",
      "source": [
        "Problem 10"
      ],
      "metadata": {
        "id": "uzHdCI-K_CVP"
      }
    },
    {
      "cell_type": "code",
      "source": [
        "class SultansDine:\n",
        "    t_num=0\n",
        "    t_price=0\n",
        "    dict1={}\n",
        "    \n",
        "    def __init__(self,name):\n",
        "        self.place=name\n",
        "        SultansDine.t_num+=1\n",
        "        SultansDine.dict1[name]=0\n",
        "        \n",
        "    def sellQuantity(self,num):\n",
        "        sell=0\n",
        "        if num < 10:\n",
        "            sell = num * 300\n",
        "        elif num < 20:\n",
        "            sell = num * 350\n",
        "        else:\n",
        "            sell = num * 400\n",
        "            \n",
        "        self.quantity=sell\n",
        "        SultansDine.t_price+=sell\n",
        "        SultansDine.dict1[self.place]=sell\n",
        "        \n",
        "    def branchInformation(self):\n",
        "        print('Branch Name:',self.place)\n",
        "        print('Branch Sell:',self.quantity,'Taka')\n",
        "\n",
        "        \n",
        "    @classmethod\n",
        "    def details(cls):\n",
        "        print('Total Number of branch(s):',SultansDine.t_num)\n",
        "        print('Total Sell:',SultansDine.t_price)\n",
        "        if len(SultansDine.dict1)!=0:\n",
        "            for i in SultansDine.dict1:\n",
        "                print(f'Branch Name: {i}, Branch sell: {SultansDine.dict1[i]}')\n",
        "                perc=(SultansDine.dict1[i]/SultansDine.t_price)*100\n",
        "                print(f\"Branch consists of total sell's: {perc:05.2f}%\")\n",
        "        \n",
        "SultansDine.details()\n",
        "print('########################')\n",
        "dhanmodi = SultansDine('Dhanmondi')\n",
        "dhanmodi.sellQuantity(25)\n",
        "dhanmodi.branchInformation()\n",
        "print('-----------------------------------------')\n",
        "SultansDine.details()\n",
        "print('========================')\n",
        "baily_road = SultansDine('Baily Road')\n",
        "baily_road.sellQuantity(15)\n",
        "baily_road.branchInformation()\n",
        "print('-----------------------------------------')\n",
        "SultansDine.details()\n",
        "print('========================')\n",
        "gulshan = SultansDine('Gulshan')\n",
        "gulshan.sellQuantity(9)\n",
        "gulshan.branchInformation()\n",
        "print('-----------------------------------------')\n",
        "SultansDine.details()"
      ],
      "metadata": {
        "colab": {
          "base_uri": "https://localhost:8080/"
        },
        "id": "31bUx_nB_Cas",
        "outputId": "ab7fb88a-2a45-41d6-b409-5a3552adb549"
      },
      "execution_count": null,
      "outputs": [
        {
          "output_type": "stream",
          "name": "stdout",
          "text": [
            "Total Number of branch(s): 0\n",
            "Total Sell: 0\n",
            "########################\n",
            "Branch Name: Dhanmondi\n",
            "Branch Sell: 10000 Taka\n",
            "-----------------------------------------\n",
            "Total Number of branch(s): 1\n",
            "Total Sell: 10000\n",
            "Branch Name: Dhanmondi, Branch sell: 10000\n",
            "Branch consists of total sell's: 100.00%\n",
            "========================\n",
            "Branch Name: Baily Road\n",
            "Branch Sell: 5250 Taka\n",
            "-----------------------------------------\n",
            "Total Number of branch(s): 2\n",
            "Total Sell: 15250\n",
            "Branch Name: Dhanmondi, Branch sell: 10000\n",
            "Branch consists of total sell's: 65.57%\n",
            "Branch Name: Baily Road, Branch sell: 5250\n",
            "Branch consists of total sell's: 34.43%\n",
            "========================\n",
            "Branch Name: Gulshan\n",
            "Branch Sell: 2700 Taka\n",
            "-----------------------------------------\n",
            "Total Number of branch(s): 3\n",
            "Total Sell: 17950\n",
            "Branch Name: Dhanmondi, Branch sell: 10000\n",
            "Branch consists of total sell's: 55.71%\n",
            "Branch Name: Baily Road, Branch sell: 5250\n",
            "Branch consists of total sell's: 29.25%\n",
            "Branch Name: Gulshan, Branch sell: 2700\n",
            "Branch consists of total sell's: 15.04%\n"
          ]
        }
      ]
    }
  ]
}