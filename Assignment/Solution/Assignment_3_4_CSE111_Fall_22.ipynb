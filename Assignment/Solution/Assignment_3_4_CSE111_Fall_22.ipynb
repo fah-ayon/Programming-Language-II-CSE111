{
  "nbformat": 4,
  "nbformat_minor": 0,
  "metadata": {
    "colab": {
      "provenance": [],
      "collapsed_sections": []
    },
    "kernelspec": {
      "name": "python3",
      "display_name": "Python 3"
    },
    "language_info": {
      "name": "python"
    }
  },
  "cells": [
    {
      "cell_type": "markdown",
      "source": [
        "Problem 1"
      ],
      "metadata": {
        "id": "VkAxbEQJIC6g"
      }
    },
    {
      "cell_type": "code",
      "execution_count": null,
      "metadata": {
        "colab": {
          "base_uri": "https://localhost:8080/"
        },
        "id": "hUUPI4D1HO03",
        "outputId": "40e4bc1a-c776-41b7-dd11-114b1581304c"
      },
      "outputs": [
        {
          "output_type": "stream",
          "name": "stdout",
          "text": [
            "Name: A\n",
            "Age: 55\n",
            "Weight: 63.0 kg\n",
            "Height:158.0 cm\n",
            "BMI: 25.236340330075304\n",
            "====================\n",
            "Name: B\n",
            "Age: 53\n",
            "Weight: 61.0 kg\n",
            "Height:149.0 cm\n",
            "BMI: 27.476239809017613\n"
          ]
        }
      ],
      "source": [
        "class Patient:\n",
        "  def __init__(self,name,age,weight,height):\n",
        "    self.name = name\n",
        "    self.age = age\n",
        "    self.weight = weight\n",
        "    self.height = height\n",
        "\n",
        "  def printDetails(self):\n",
        "    print(f'Name: {self.name}\\nAge: {self.age}\\nWeight: {self.weight} kg\\nHeight:{self.height} cm\\nBMI: {self.weight/(self.height/100)**2}')\n",
        "\n",
        "\n",
        "p1 = Patient(\"A\", 55, 63.0, 158.0)\n",
        "p1.printDetails()\n",
        "print(\"====================\")\n",
        "p2 = Patient(\"B\", 53, 61.0, 149.0)\n",
        "p2.printDetails()"
      ]
    },
    {
      "cell_type": "markdown",
      "source": [
        "Problem 2"
      ],
      "metadata": {
        "id": "fsAm0o-6KJ_O"
      }
    },
    {
      "cell_type": "code",
      "source": [
        "class Shape:\n",
        "  def __init__(self,name,height,base):\n",
        "    self.name = name\n",
        "    self.height = height\n",
        "    self.base = base\n",
        "    \n",
        "  def area(self):\n",
        "    if self.name == \"Triangle\":\n",
        "      print(f'Area: {1/2*self.height*self.base}')\n",
        "    if self.name == \"Square\":\n",
        "      print(f'Area: {self.height*self.base}')\n",
        "    if self.name == \"Rhombus\":\n",
        "      print(f'Area: {1/2*self.height*self.base}')\n",
        "    if self.name == \"Rectangle\":\n",
        "      print(f'Area: {self.height*self.base}')\n",
        "    else:\n",
        "      print(\"Area: Shape unknown\")  \n",
        "\n",
        "triangle = Shape(\"Triangle\",10,25)\n",
        "triangle.area()\n",
        "print(\"==========================\")\n",
        "square = Shape(\"Square\",10,10)\n",
        "square.area()\n",
        "print(\"==========================\")\n",
        "rhombus = Shape(\"Rhombus\",18,25)\n",
        "rhombus.area()\n",
        "print(\"==========================\")\n",
        "rectangle = Shape(\"Rectangle\",15,30)\n",
        "rectangle.area()\n",
        "print(\"==========================\")\n",
        "trapezium = Shape(\"Trapezium\",15,30)\n",
        "trapezium.area()"
      ],
      "metadata": {
        "colab": {
          "base_uri": "https://localhost:8080/"
        },
        "id": "WcMcarSIKMQG",
        "outputId": "7e8b4681-b82f-4778-9b29-71bdf35877c4"
      },
      "execution_count": null,
      "outputs": [
        {
          "output_type": "stream",
          "name": "stdout",
          "text": [
            "Area: 125.0\n",
            "Area: Shape unknown\n",
            "==========================\n",
            "Area: 100\n",
            "Area: Shape unknown\n",
            "==========================\n",
            "Area: 225.0\n",
            "Area: Shape unknown\n",
            "==========================\n",
            "Area: 450\n",
            "==========================\n",
            "Area: Shape unknown\n"
          ]
        }
      ]
    },
    {
      "cell_type": "markdown",
      "source": [
        "Problem 3"
      ],
      "metadata": {
        "id": "XQnFp-LEOo6l"
      }
    },
    {
      "cell_type": "code",
      "source": [
        "class Calculator:\n",
        "  def __init__(self):\n",
        "    print(\"Calculator is ready!\")\n",
        "  \n",
        "  def calculate(self,num1,num2,op):\n",
        "    self.num1 = num1\n",
        "    self.num2 = num2\n",
        "    self.op = op\n",
        "\n",
        "    if self.op == \"+\":\n",
        "      val = self.num1 + self.num2\n",
        "    if self.op == \"-\":\n",
        "      val = self.num1 - self.num2\n",
        "    if self.op == \"*\":\n",
        "      val = self.num1*self.num2\n",
        "    if self.op == \"/\":\n",
        "      val = self.num1/self.num2\n",
        "    self.result = val\n",
        "    return val\n",
        "\n",
        "  def showCalculation(self):\n",
        "    print(f'{self.num1}{self.op}{self.num2} = {self.result}')\n",
        "\n",
        "\n",
        "    \n",
        "c1 = Calculator()\n",
        "print(\"==================\")\n",
        "val = c1.calculate(10, 20, '+')\n",
        "print(\"Returned value:\", val)\n",
        "c1.showCalculation()\n",
        "print(\"==================\")\n",
        "val = c1.calculate(val, 10, '-')\n",
        "print(\"Returned value:\", val)\n",
        "c1.showCalculation()\n",
        "print(\"==================\")\n",
        "val = c1.calculate(val, 5, '*')\n",
        "print(\"Returned value:\", val)\n",
        "c1.showCalculation()\n",
        "print(\"==================\")\n",
        "val = c1.calculate(val, 16, '/')\n",
        "print(\"Returned value:\", val)\n",
        "c1.showCalculation()"
      ],
      "metadata": {
        "colab": {
          "base_uri": "https://localhost:8080/"
        },
        "id": "HCfF2_RaOGRY",
        "outputId": "b7a272b8-bd41-43c4-bb9f-9ef01f399d2d"
      },
      "execution_count": null,
      "outputs": [
        {
          "output_type": "stream",
          "name": "stdout",
          "text": [
            "Calculator is ready!\n",
            "==================\n",
            "Returned value: 30\n",
            "10+20 = 30\n",
            "==================\n",
            "Returned value: 20\n",
            "30-10 = 20\n",
            "==================\n",
            "Returned value: 100\n",
            "20*5 = 100\n",
            "==================\n",
            "Returned value: 6.25\n",
            "100/16 = 6.25\n"
          ]
        }
      ]
    },
    {
      "cell_type": "markdown",
      "source": [
        "Problem 4"
      ],
      "metadata": {
        "id": "SUY_L-RgU9Ul"
      }
    },
    {
      "cell_type": "code",
      "source": [
        "class Programmer:\n",
        "  def __init__(self,name,lan,exp):\n",
        "    print('Horray! A new programmer is born')\n",
        "    self.name =name\n",
        "    self.lan = lan\n",
        "    self.exp = exp\n",
        "  def printDetails(self):\n",
        "    print(f'Name: {self.name}\\nLanguage: {self.lan}\\nExperience: {self.exp}')\n",
        "  \n",
        "  def addExp(self,exp):\n",
        "    self.exp += 5\n",
        "    print(f\"Updating Experience of {self.name}\")\n",
        "\n",
        "\n",
        "p1 = Programmer(\"Ethen Hunt\", \"Java\", 10)\n",
        "p1.printDetails()\n",
        "print('--------------------------')\n",
        "p2 = Programmer(\"James Bond\", \"C++\", 7)\n",
        "p2.printDetails()\n",
        "print('--------------------------')\n",
        "p3 = Programmer(\"Jon Snow\", \"Python\", 4)\n",
        "p3.printDetails()\n",
        "p3.addExp(5)\n",
        "p3.printDetails()"
      ],
      "metadata": {
        "colab": {
          "base_uri": "https://localhost:8080/"
        },
        "id": "QNA-CUcxTmzg",
        "outputId": "93d8e7d1-40dd-4800-da73-19ca75640087"
      },
      "execution_count": null,
      "outputs": [
        {
          "output_type": "stream",
          "name": "stdout",
          "text": [
            "Horray! A new programmer is born\n",
            "Name: Ethen Hunt\n",
            "Language: Java\n",
            "Experience: 10\n",
            "--------------------------\n",
            "Horray! A new programmer is born\n",
            "Name: James Bond\n",
            "Language: C++\n",
            "Experience: 7\n",
            "--------------------------\n",
            "Horray! A new programmer is born\n",
            "Name: Jon Snow\n",
            "Language: Python\n",
            "Experience: 4\n",
            "Updating Experience of Jon Snow\n",
            "Name: Jon Snow\n",
            "Language: Python\n",
            "Experience: 9\n"
          ]
        }
      ]
    },
    {
      "cell_type": "markdown",
      "source": [
        "Problem 5"
      ],
      "metadata": {
        "id": "DLOs444gau4l"
      }
    },
    {
      "cell_type": "code",
      "source": [
        "class UberEats:\n",
        "  def __init__(self,name,phone,place):\n",
        "    self.name = name\n",
        "    self.phone = phone \n",
        "    self.place = place\n",
        "    print(f\"{self.name}, welcome to UberEats!\")\n",
        "\n",
        "  def add_items(self,item_1,item_2,price1,price2):\n",
        "    self.item_1= item_1\n",
        "    self.item_2= item_2\n",
        "    self.price1 = price1\n",
        "    self.price2 = price2\n",
        "\n",
        "    self.dict_1 = {self.item_1:self.price1,self.item_2:self.price2}\n",
        "  \n",
        "  def print_order_detail(self):\n",
        "    print(f'User details: Name: {self.name},Phone: {self.phone}, Address: {self.place}\\nOrders: {self.dict_1}')\n",
        "    return(f'Total Paid Amount: {self.price1+self.price2}')\n",
        "\n",
        "order1 = UberEats(\"Shakib\", \"01719658xxx\", \"Mohakhali\")\n",
        "print(\"=========================\")\n",
        "order1.add_items(\"Burger\", \"Coca Cola\", 220, 50) #method1\n",
        "print(\"=========================\")\n",
        "print(order1.print_order_detail())  #method2\n",
        "print(\"=========================\")\n",
        "order2 = UberEats (\"Siam\", \"01719659xxx\", \"Uttara\")\n",
        "print(\"=========================\")\n",
        "order2.add_items(\"Pineapple\", \"Dairy Milk\", 80, 70)\n",
        "print(\"=========================\")\n",
        "print(order2.print_order_detail())"
      ],
      "metadata": {
        "colab": {
          "base_uri": "https://localhost:8080/"
        },
        "id": "obuqtEuqawpZ",
        "outputId": "f26bb730-53e0-4640-e793-d8f6ae28024d"
      },
      "execution_count": null,
      "outputs": [
        {
          "output_type": "stream",
          "name": "stdout",
          "text": [
            "Shakib, welcome to UberEats!\n",
            "=========================\n",
            "=========================\n",
            "User details: Name: Shakib,Phone: 01719658xxx, Address: Mohakhali\n",
            "Orders: {'Burger': 220, 'Coca Cola': 50}\n",
            "Total Paid Amount: 270\n",
            "=========================\n",
            "Siam, welcome to UberEats!\n",
            "=========================\n",
            "=========================\n",
            "User details: Name: Siam,Phone: 01719659xxx, Address: Uttara\n",
            "Orders: {'Pineapple': 80, 'Dairy Milk': 70}\n",
            "Total Paid Amount: 150\n"
          ]
        }
      ]
    },
    {
      "cell_type": "markdown",
      "source": [
        "Problem 6"
      ],
      "metadata": {
        "id": "kvVdC5eSexzx"
      }
    },
    {
      "cell_type": "code",
      "source": [
        "class Customer:\n",
        "  def __init__(self,name):\n",
        "    self.name= name\n",
        "  def greet(self,name1= None):\n",
        "    self.name1 = name1\n",
        "    if self.name1 == None:\n",
        "      print(\"Hello!\")\n",
        "    else:\n",
        "      print(f\"Hello! {self.name1}\")\n",
        "\n",
        "  def purchase(self,*items):\n",
        "    \n",
        "    print(f'{self.name}, you purchased {len(items)} item(s)')\n",
        "    for i in items:\n",
        "      print(i)\n",
        "\n",
        "customer_1 = Customer(\"Sam\")\n",
        "customer_1.greet()\n",
        "customer_1.purchase(\"chips\", \"chocolate\", \"orange juice\")\n",
        "print(\"-----------------------------\")\n",
        "customer_2 = Customer(\"David\")\n",
        "customer_2.greet(\"David\")\n",
        "customer_2.purchase(\"orange juice\")"
      ],
      "metadata": {
        "colab": {
          "base_uri": "https://localhost:8080/"
        },
        "id": "WLwdIyDCe0kK",
        "outputId": "1738cd6d-ff3d-4e94-a709-bb86f9ce49c1"
      },
      "execution_count": null,
      "outputs": [
        {
          "output_type": "stream",
          "name": "stdout",
          "text": [
            "Hello!\n",
            "Sam, you purchased 3 item(s)\n",
            "chips\n",
            "chocolate\n",
            "orange juice\n",
            "-----------------------------\n",
            "Hello! David\n",
            "David, you purchased 1 item(s)\n",
            "orange juice\n"
          ]
        }
      ]
    },
    {
      "cell_type": "markdown",
      "source": [
        "Problem 7"
      ],
      "metadata": {
        "id": "tt0M3wMREpgF"
      }
    },
    {
      "cell_type": "code",
      "source": [
        "class Cat:\n",
        "  def __init__(self,color=\"White\",position=\"sitting\"):\n",
        "    self.color = color\n",
        "    self.position = position\n",
        "  def printCat(self):\n",
        "    print(f\"{self.color} is {self.position}\")\n",
        "  def changeColor(self,color2):\n",
        "    self.color = color2\n",
        "\n",
        "\n",
        "c1 = Cat()\n",
        "c2 = Cat(\"Black\")\n",
        "c3 = Cat(\"Brown\", \"jumping\")\n",
        "c4 = Cat(\"Red\", \"purring\")\n",
        "c1.printCat()\n",
        "c2.printCat()\n",
        "c3.printCat()\n",
        "c4.printCat()\n",
        "c1.changeColor(\"Blue\")\n",
        "c3.changeColor(\"Purple\")\n",
        "c1.printCat()\n",
        "c3.printCat()"
      ],
      "metadata": {
        "colab": {
          "base_uri": "https://localhost:8080/"
        },
        "id": "gtZxA4bKEsd3",
        "outputId": "6d66ab9a-d734-4bbf-cc83-35b662396226"
      },
      "execution_count": null,
      "outputs": [
        {
          "output_type": "stream",
          "name": "stdout",
          "text": [
            "White is sitting\n",
            "Black is sitting\n",
            "Brown is jumping\n",
            "Red is purring\n",
            "Blue is sitting\n",
            "Purple is jumping\n"
          ]
        }
      ]
    },
    {
      "cell_type": "markdown",
      "source": [
        "Problem 8"
      ],
      "metadata": {
        "id": "LATBh2-4JdkL"
      }
    },
    {
      "cell_type": "code",
      "source": [
        "class Student:\n",
        "  def __init__(self,name,id,dept=\"CSE\"):\n",
        "    self.name = name\n",
        "    self.id = id\n",
        "    self.dept = dept\n",
        "\n",
        "  def dailyEffort(self,hours):\n",
        "    self.effort= hours\n",
        "    \n",
        "  \n",
        "  def printDetails(self):\n",
        "    print(f'Name: {self.name}\\nID: {self.id}\\nDepartment: {self.dept}\\nDaily Effort: {self.effort} hour(s)')\n",
        "    if self.effort>=0 and self.effort <=2 :\n",
        "      print('Suggestion: Should give more effort!')\n",
        "    if self.effort >=3 and self.effort <=4:\n",
        "      print('Suggestion: Keep up the good work!')\n",
        "    if self.effort > 5:\n",
        "      print('Suggestion: Excellent! Now motivate others.')\n",
        "\n",
        "\n",
        "\n",
        "harry = Student('Harry Potter', 123)\n",
        "harry.dailyEffort(3)\n",
        "harry.printDetails()\n",
        "print('========================')\n",
        "john = Student(\"John Wick\", 456, \"BBA\")\n",
        "john.dailyEffort(2)\n",
        "john.printDetails()\n",
        "print('========================')\n",
        "naruto = Student(\"Naruto Uzumaki\", 777, \"Ninja\")\n",
        "naruto.dailyEffort(6)\n",
        "naruto.printDetails()"
      ],
      "metadata": {
        "colab": {
          "base_uri": "https://localhost:8080/"
        },
        "id": "gaIWCv29Jh_y",
        "outputId": "315e724b-590f-4a8e-dac7-262e222cdd4e"
      },
      "execution_count": null,
      "outputs": [
        {
          "output_type": "stream",
          "name": "stdout",
          "text": [
            "Name: Harry Potter\n",
            "ID: 123\n",
            "Department: CSE\n",
            "Daily Effort: 3 hour(s)\n",
            "Suggestion: Keep up the good work!\n",
            "========================\n",
            "Name: John Wick\n",
            "ID: 456\n",
            "Department: BBA\n",
            "Daily Effort: 2 hour(s)\n",
            "Suggestion: Should give more effort!\n",
            "========================\n",
            "Name: Naruto Uzumaki\n",
            "ID: 777\n",
            "Department: Ninja\n",
            "Daily Effort: 6 hour(s)\n",
            "Suggestion: Excellent! Now motivate others.\n"
          ]
        }
      ]
    },
    {
      "cell_type": "markdown",
      "source": [
        "Problem 9"
      ],
      "metadata": {
        "id": "GnItfUMbQMPW"
      }
    },
    {
      "cell_type": "code",
      "source": [
        "class Batsman:\n",
        "  def __init__(self,*args):\n",
        "    if len(args)== 1:\n",
        "      self.name = args[0]\n",
        "    if len(args)==2:\n",
        "      self.name = \"New Batsman\"\n",
        "      self.runs = args[0]\n",
        "      self.balls = args[1]\n",
        "    if len(args) == 3:\n",
        "      self.name = args[0]\n",
        "      self.runs = args[1]\n",
        "      self.balls = args[2]\n",
        "\n",
        "  def printCareerStatistics(self):\n",
        "    print(f'Name: {self.name}\\nRuns Scored: {self.runs} , Balls Faced: {self.balls}')\n",
        "  def battingStrikeRate(self):\n",
        "    return self.runs/self.balls*100\n",
        "  def setName(self,name1):\n",
        "    self.name =name1\n",
        "b1 = Batsman(6101, 7380)\n",
        "b1.printCareerStatistics()\n",
        "print(\"============================\")\n",
        "b2 = Batsman(\"Liton Das\", 678, 773)\n",
        "b2.printCareerStatistics()\n",
        "print(\"----------------------------\")\n",
        "print(b2.battingStrikeRate())\n",
        "print(\"============================\")\n",
        "b1.setName(\"Shakib Al Hasan\")\n",
        "b1.printCareerStatistics()\n",
        "print(\"----------------------------\")\n",
        "print(b1.battingStrikeRate())"
      ],
      "metadata": {
        "colab": {
          "base_uri": "https://localhost:8080/"
        },
        "id": "3LpFKW6aQO3T",
        "outputId": "3526c950-91de-4a17-8c3f-4fd78f725798"
      },
      "execution_count": null,
      "outputs": [
        {
          "output_type": "stream",
          "name": "stdout",
          "text": [
            "Name: New Batsman\n",
            "Runs Scored: 6101 , Balls Faced: 7380\n",
            "============================\n",
            "Name: Liton Das\n",
            "Runs Scored: 678 , Balls Faced: 773\n",
            "----------------------------\n",
            "87.71021992238033\n",
            "============================\n",
            "Name: Shakib Al Hasan\n",
            "Runs Scored: 6101 , Balls Faced: 7380\n",
            "----------------------------\n",
            "82.66937669376694\n"
          ]
        }
      ]
    },
    {
      "cell_type": "markdown",
      "source": [
        "Problem 10"
      ],
      "metadata": {
        "id": "Bi6Je3D9WVy-"
      }
    },
    {
      "cell_type": "code",
      "source": [
        "class Author :\n",
        "  def __init__(self,name= \"Default\",*args):\n",
        "    self.name = name\n",
        "    self.books = list(args)\n",
        "  def addBooks(self,*args):\n",
        "    self.books.extend(args)\n",
        "\n",
        "  def printDetails(self):\n",
        "    books= '\\n'.join(self.books)\n",
        "    print(f'Author Name: {self.name}\\n-----\\nList of books:\\n{books}')\n",
        "\n",
        "  def changeName(self,name2):\n",
        "    self.name = name2\n",
        "auth1 = Author('Humayun Ahmed')\n",
        "auth1.addBooks('Deyal', 'Megher Opor Bari')\n",
        "auth1.printDetails()\n",
        "print(\"===================\")\n",
        "auth2 = Author()\n",
        "print(auth2.name)\n",
        "auth2.changeName('Mario Puzo')\n",
        "auth2.addBooks('The Godfather', 'Omerta', 'The Sicilian')\n",
        "print(\"===================\")\n",
        "auth2.printDetails()\n",
        "print(\"===================\")\n",
        "auth3 = Author('Paolo Coelho', 'The Alchemist', 'The Fifth Mountain')\n",
        "auth3.printDetails()"
      ],
      "metadata": {
        "colab": {
          "base_uri": "https://localhost:8080/"
        },
        "id": "PKr3FZ3MWcS9",
        "outputId": "fd943a1a-e198-42b7-d601-8d5e6ac46bb2"
      },
      "execution_count": null,
      "outputs": [
        {
          "output_type": "stream",
          "name": "stdout",
          "text": [
            "Author Name: Humayun Ahmed\n",
            "-----\n",
            "List of books:\n",
            "Deyal\n",
            "Megher Opor Bari\n",
            "===================\n",
            "Default\n",
            "===================\n",
            "Author Name: Mario Puzo\n",
            "-----\n",
            "List of books:\n",
            "The Godfather\n",
            "Omerta\n",
            "The Sicilian\n",
            "===================\n",
            "Author Name: Paolo Coelho\n",
            "-----\n",
            "List of books:\n",
            "The Alchemist\n",
            "The Fifth Mountain\n"
          ]
        }
      ]
    },
    {
      "cell_type": "markdown",
      "source": [
        "Problem 11"
      ],
      "metadata": {
        "id": "uRCcn_CicLb9"
      }
    },
    {
      "cell_type": "code",
      "source": [
        "class TaxiLagbe:\n",
        "    def __init__(self,num,area):\n",
        "        self.taxi_num=num\n",
        "        self.area=area\n",
        "        self.passenger_list=[]\n",
        "        self.fare=0\n",
        "    def addPassenger(self,*args):\n",
        "        for i in args:\n",
        "            if len(self.passenger_list)<=3:\n",
        "                name,fare=i.split('_')\n",
        "                self.passenger_list.append(name)\n",
        "                self.fare+=int(fare)\n",
        "                print(f'Dear {name}! Welcome to TaxiLagbe.')\n",
        "            else:\n",
        "                print('Taxi Full! No more passengers can be added.')\n",
        "    def printDetails(self):\n",
        "        print(f'Trip info for Taxi number: {self.taxi_num}\\nThis taxi can cover only {self.area} area.\\nTotal passengers: {len(self.passenger_list)}\\nPassenger lists:\\n{\", \".join(self.passenger_list)}\\nTotal collected fare: {self.fare} Taka')\n",
        "\n",
        "taxi1 = TaxiLagbe('1010-01', 'Dhaka')\n",
        "print('-------------------------------')\n",
        "taxi1.addPassenger('Walker_100', 'Wood_200')\n",
        "taxi1.addPassenger('Matt_100')\n",
        "taxi1.addPassenger('Wilson_105')\n",
        "print('-------------------------------')\n",
        "taxi1.printDetails()\n",
        "print('-------------------------------')\n",
        "taxi1.addPassenger('Karen_200')\n",
        "print('-------------------------------')\n",
        "taxi1.printDetails()\n",
        "print('-------------------------------')\n",
        "taxi2 = TaxiLagbe('1010-02', 'Khulna')\n",
        "taxi2.addPassenger('Ronald_115')\n",
        "taxi2.addPassenger('Parker_215')\n",
        "print('-------------------------------')\n",
        "taxi2.printDetails()\n"
      ],
      "metadata": {
        "id": "yjbLL2nscL8k",
        "colab": {
          "base_uri": "https://localhost:8080/"
        },
        "outputId": "4dd513de-b59c-4a46-8c79-ced5e4063363"
      },
      "execution_count": 14,
      "outputs": [
        {
          "output_type": "stream",
          "name": "stdout",
          "text": [
            "-------------------------------\n",
            "Dear Walker! Welcome to TaxiLagbe.\n",
            "Dear Wood! Welcome to TaxiLagbe.\n",
            "Dear Matt! Welcome to TaxiLagbe.\n",
            "Dear Wilson! Welcome to TaxiLagbe.\n",
            "-------------------------------\n",
            "Trip info for Taxi number: 1010-01\n",
            "This taxi can cover only Dhaka area.\n",
            "Total passengers: 4\n",
            "Passenger lists:\n",
            "Walker, Wood, Matt, Wilson\n",
            "Total collected fare: 505 Taka\n",
            "-------------------------------\n",
            "Taxi Full! No more passengers can be added.\n",
            "-------------------------------\n",
            "Trip info for Taxi number: 1010-01\n",
            "This taxi can cover only Dhaka area.\n",
            "Total passengers: 4\n",
            "Passenger lists:\n",
            "Walker, Wood, Matt, Wilson\n",
            "Total collected fare: 505 Taka\n",
            "-------------------------------\n",
            "Dear Ronald! Welcome to TaxiLagbe.\n",
            "Dear Parker! Welcome to TaxiLagbe.\n",
            "-------------------------------\n",
            "Trip info for Taxi number: 1010-02\n",
            "This taxi can cover only Khulna area.\n",
            "Total passengers: 2\n",
            "Passenger lists:\n",
            "Ronald, Parker\n",
            "Total collected fare: 330 Taka\n"
          ]
        }
      ]
    },
    {
      "cell_type": "markdown",
      "source": [
        "Problem 12"
      ],
      "metadata": {
        "id": "J0vbCY4icglp"
      }
    },
    {
      "cell_type": "code",
      "source": [
        "class Account:\n",
        "  def __init__(self,name='Default Account',balance=0.0):\n",
        "    self.name =name\n",
        "    self.balance = float(balance)\n",
        "  def withdraw(self,val1):\n",
        "    self.val1 = val1\n",
        "    val2 = (self.balance- self.val1)\n",
        "    if val2 <=0 :\n",
        "      print(\"Sorry, Withdraw unsuccessful! The account balance after deducting withdraw amount is equal to or less than minimum.\")\n",
        "    else:\n",
        "      print(f'Withdraw successful! New balance is: \\n{val2}')\n",
        "      #return val2\n",
        "  def details(self):\n",
        "    return(f'{self.name}\\n{self.balance}')\n",
        "\n",
        "a1 = Account()\n",
        "print(a1.details())\n",
        "print(\"------------------------\")\n",
        "a1.name = \"Oliver\"\n",
        "a1.balance = 10000.0\n",
        "print(a1.details())\n",
        "print(\"------------------------\")\n",
        "a2 = Account(\"Liam\")\n",
        "print(a2.details())\n",
        "print(\"------------------------\")\n",
        "a3 = Account(\"Noah\",400)\n",
        "print(a3.details())\n",
        "print(\"------------------------\")\n",
        "a1.withdraw(6930)\n",
        "print(\"------------------------\")\n",
        "a2.withdraw(600)\n",
        "print(\"------------------------\")\n",
        "a1.withdraw(6929)"
      ],
      "metadata": {
        "colab": {
          "base_uri": "https://localhost:8080/"
        },
        "id": "BHejYgSqciFp",
        "outputId": "62ffb40f-ad91-4bcb-91ab-707ad282d56a"
      },
      "execution_count": null,
      "outputs": [
        {
          "output_type": "stream",
          "name": "stdout",
          "text": [
            "Default Account\n",
            "0.0\n",
            "------------------------\n",
            "Oliver\n",
            "10000.0\n",
            "------------------------\n",
            "Liam\n",
            "0.0\n",
            "------------------------\n",
            "Noah\n",
            "400.0\n",
            "------------------------\n",
            "Withdraw successful! New balance is: \n",
            "3070.0\n",
            "------------------------\n",
            "Sorry, Withdraw unsuccessful! The account balance after deducting withdraw amount is equal to or less than minimum.\n",
            "------------------------\n",
            "Withdraw successful! New balance is: \n",
            "3071.0\n"
          ]
        }
      ]
    },
    {
      "cell_type": "markdown",
      "source": [
        "Problem 13"
      ],
      "metadata": {
        "id": "xon-1oIBgCWU"
      }
    },
    {
      "cell_type": "code",
      "source": [
        "class StudentDatabase:\n",
        "    def __init__(self,name,id):\n",
        "        self.name=name\n",
        "        self.id=id\n",
        "        self.grades={}\n",
        "    def calculateGPA(self,course_lst,semester):\n",
        "        total_grade=0\n",
        "        course_list=[]\n",
        "        for i in course_lst:\n",
        "            course,grade=i.split(': ')\n",
        "            course_list.append(course)\n",
        "            total_grade+=float(grade)\n",
        "        gpa= round(total_grade/len(course_lst),2)\n",
        "        key=tuple(course_list)\n",
        "        a_dict= dict({key:gpa})\n",
        "        self.grades.update({semester:a_dict})\n",
        "    def printDetails(self):\n",
        "        print(f'Name: {self.name}\\nID: {self.id}')\n",
        "        for k1,v1 in self.grades.items():\n",
        "            print(f'Courses taken in {k1}:')\n",
        "            for k2,v2 in v1.items():\n",
        "                temp=k2\n",
        "                for i in k2:\n",
        "                    print(i)\n",
        "                print('GPA:',v2)\n",
        "\n",
        "        \n",
        "s1 = StudentDatabase('Pietro', '10101222')\n",
        "s1.calculateGPA(['CSE230: 4.0', 'CSE220: 4.0', 'MAT110: 4.0'], 'Summer2020')\n",
        "s1.calculateGPA(['CSE250: 3.7', 'CSE330: 4.0'], 'Summer2021')\n",
        "print(f'Grades for {s1.name}\\n{s1.grades}')\n",
        "print('------------------------------------------------------')\n",
        "s1.printDetails()\n",
        "s2 = StudentDatabase('Wanda', '10103332')\n",
        "s2.calculateGPA(['CSE111: 3.7', 'CSE260: 3.7', 'ENG101: 4.0'], 'Summer2022')\n",
        "print('------------------------------------------------------')\n",
        "print(f'Grades for {s2.name}\\n{s2.grades}')\n",
        "print('------------------------------------------------------')\n",
        "s2.printDetails()\n"
      ],
      "metadata": {
        "id": "_KTOpH2xgIPJ",
        "colab": {
          "base_uri": "https://localhost:8080/"
        },
        "outputId": "cc3f6c89-8dd1-4f82-d2c3-32a30283fc1c"
      },
      "execution_count": 15,
      "outputs": [
        {
          "output_type": "stream",
          "name": "stdout",
          "text": [
            "Grades for Pietro\n",
            "{'Summer2020': {('CSE230', 'CSE220', 'MAT110'): 4.0}, 'Summer2021': {('CSE250', 'CSE330'): 3.85}}\n",
            "------------------------------------------------------\n",
            "Name: Pietro\n",
            "ID: 10101222\n",
            "Courses taken in Summer2020:\n",
            "CSE230\n",
            "CSE220\n",
            "MAT110\n",
            "GPA: 4.0\n",
            "Courses taken in Summer2021:\n",
            "CSE250\n",
            "CSE330\n",
            "GPA: 3.85\n",
            "------------------------------------------------------\n",
            "Grades for Wanda\n",
            "{'Summer2022': {('CSE111', 'CSE260', 'ENG101'): 3.8}}\n",
            "------------------------------------------------------\n",
            "Name: Wanda\n",
            "ID: 10103332\n",
            "Courses taken in Summer2022:\n",
            "CSE111\n",
            "CSE260\n",
            "ENG101\n",
            "GPA: 3.8\n"
          ]
        }
      ]
    },
    {
      "cell_type": "markdown",
      "source": [
        "# **UNGRADED**"
      ],
      "metadata": {
        "id": "oPSSPZc4BLl3"
      }
    },
    {
      "cell_type": "code",
      "source": [
        "class Student:\n",
        "  def __init__(self,name= None,dept= None):\n",
        "    self.name = name\n",
        "    self.dept = dept\n",
        "\n",
        "    if self.name == None and self.dept == None:\n",
        "      print(\"Student name and department need to be set\")\n",
        "    if self.name!= None and self.dept== None:\n",
        "      print(f'Department for {self.name} need to be set')\n",
        "    if self.name!= None and self.dept!= None:\n",
        "      print(f'{self.name} is from {self.dept}')\n",
        "    else:\n",
        "      pass\n",
        "  def update_name(self,name1):\n",
        "    self.name = name1\n",
        "  def update_department(self,dept1):\n",
        "    self.dept = dept1\n",
        "  def enroll(self,*args):\n",
        "    self.course = list(args)\n",
        "  def printDetail(self):\n",
        "    course= \"\\n\".join(self.course)\n",
        "    print(f'Name: {self.name}\\nDepartment: {self.dept}\\n{self.name} enrolled {len(self.course)} course(s)\\n{course}')\n",
        "  \n",
        "\n",
        "s1 = Student()\n",
        "print(\"=========================\")\n",
        "s2 = Student(\"Carol\")\n",
        "print(\"=========================\")\n",
        "s3 = Student(\"Jon\", \"EEE\")\n",
        "print(\"=========================\")\n",
        "s1.update_name(\"Bob\")\n",
        "s1.update_department(\"CSE\")\n",
        "s2.update_department(\"BBA\")\n",
        "s1.enroll(\"CSE110\", \"MAT110\", \"ENG091\")\n",
        "s2.enroll(\"BUS101\")\n",
        "s3.enroll(\"MAT110\", \"PHY111\")\n",
        "print(\"###########################\")\n",
        "s1.printDetail()\n",
        "print(\"=========================\")\n",
        "s2.printDetail()\n",
        "print(\"=========================\")\n",
        "s3.printDetail()"
      ],
      "metadata": {
        "id": "qS7gZerABMAl"
      },
      "execution_count": null,
      "outputs": []
    },
    {
      "cell_type": "code",
      "source": [
        "class Student:\n",
        "  def __init__(self,name,id,dept):\n",
        "    self.name = name\n",
        "    self.id = id \n",
        "    self.dept = dept\n",
        "  \n",
        "  def details(self):\n",
        "    return(f'Name: {self.name}\\nID: {self.id}\\nDepartment: {self.dept}')\n",
        "    \n",
        "\n",
        "  def advise(self,*args):\n",
        "    self.course = list(args)\n",
        "    self.credit = float(len(self.course*3))\n",
        "    courses= '\\n'.join(self.course)\n",
        "\n",
        "    print(f'{self.name}, you have taken {self.credit} credis.\\nList of courses:\\n{courses}')\n",
        "    \n",
        "    if len(self.course)==3:\n",
        "      print('Status: Ok')\n",
        "    if len(self.course)>3:\n",
        "      print(f'Status: You have to drop atleast {len(self.course)-3} course.')\n",
        "    if len(self.course)<3:\n",
        "      print(f'Status: You have to drop atleast {3-len(self.course)} course.')\n",
        "\n",
        "\n",
        "s1 = Student('Alice','20103012','CSE')\n",
        "s2 = Student('Bob', '18301254',\"EEE\")\n",
        "s3 = Student(\"Carol\", '17101238','CSE')\n",
        "print(\"##########################\")\n",
        "print(s1.details())\n",
        "print('##########################')\n",
        "print(s2.details())\n",
        "print('##########################')\n",
        "s1.advise('CSE110', 'MAT110','PHY111')\n",
        "print('##########################')\n",
        "s2.advise('BUS101', 'MAT120')\n",
        "print('##########################')\n",
        "s3.advise('MAT110', 'PHY111', 'ENG102','CSE111', 'CSE230')"
      ],
      "metadata": {
        "id": "1XgRoBcQGYgc"
      },
      "execution_count": null,
      "outputs": []
    },
    {
      "cell_type": "code",
      "source": [
        "class Hotel:\n",
        "  def __init__(self,htl_name):\n",
        "    self.htl_name = htl_name\n",
        "  \n",
        "  \n",
        "  def addStuff(self,st_name,st_age,st_phn='000'):\n",
        "    self.st_name = st_name\n",
        "    self.st_age = st_age\n",
        "    self.st_phn =  st_phn\n",
        "     \n",
        "  def getStuffById(self,st_id):\n",
        "    self.st_id = st_id\n",
        "    print(f'Staff With ID {self.st_id} is added')\n",
        "    print(f'Staff ID: {st_id}\\nName: {self.st_name}\\nAge: {self.st_age}\\nPhone no: {self.st_phn}')\n",
        "\n",
        "  def addGuest(self,gt_name,gt_age,gt_phn):\n",
        "    self.gt_name = gt_name\n",
        "    self.gt_age = gt_age\n",
        "    self.gt_phn = gt_phn\n",
        "\n",
        "  \n",
        "  \n",
        "  def getGuestById(self,gt_id):\n",
        "    self.gt_id = gt_id\n",
        "    print(f'Guest With ID {self.gt_id} is created')\n",
        "    print(f'Guest ID: {gt_id}\\nName: {self.gt_name}\\nAge: {self.gt_age}\\nPhone no: {self.gt_phn}')\n",
        "  \n",
        "  def allStaffs(self):\n",
        "    print(f'All Staffs:\\nNumber of Staff{len(self.st_id)}\\nStaff ID: {self.st_id} Name: {self.st_name} Age: {self.st_age} Phone no: {self.st_phn}')\n",
        "\n",
        "  #def allGuest(self):\n",
        "    #print(f'Number of Guest: {len(self.gt_id)}\\nName:')\n",
        "  \n",
        "\n",
        "\n",
        "    \n",
        "\n",
        "\n",
        "\n",
        "h = Hotel(\"Lakeshore\")\n",
        "h.addStuff( \"Adam\", 26) #method1\n",
        "print(\"=================================\")\n",
        "print(h.getStuffById(1))\n",
        "print(\"=================================\")\n",
        "h.addGuest(\"Carol\",35,\"123\")\n",
        "print(\"=================================\")\n",
        "print(h.getGuestById(1))\n",
        "print(\"=================================\")\n",
        "h.addGuest(\"Diana\", 32, \"431\")\n",
        "print(\"=================================\")\n",
        "print(h.getGuestById(2))\n",
        "print(\"=================================\")\n",
        "h.allStaffs()\n",
        "print(\"=================================\")\n",
        "#h.allGuest()\n",
        "\n",
        "\n"
      ],
      "metadata": {
        "id": "lOPIc_H7Zd71"
      },
      "execution_count": null,
      "outputs": []
    },
    {
      "cell_type": "code",
      "source": [
        "class Author:\n",
        "  def __init__(self,name= None):\n",
        "    self.name= name\n",
        "    if self.name == None:\n",
        "      print(f'A book can not be added without author name')\n",
        "  \n",
        "  def addBook(self,*args):\n",
        "    self.gnr1 = list(args[0])\n",
        "    self.gnr2 = list(args[1])\n",
        "    lst=[]\n",
        "    for i in self.gnr1:\n",
        "      lst.append(i)\n",
        "  \n",
        "  def setName(self,name1):\n",
        "    self.name = name1\n",
        "\n",
        "  def printDetail(self):\n",
        "    print(f'Number of Book(s): \\nAuthor Name: {self.name}\\n{self.gnr1}:{self.gnr2}')\n",
        "\n",
        "\n",
        "a1 = Author()\n",
        "print(\"=================================\")\n",
        "a1.addBook('Ice', 'Science Fiction')\n",
        "print(\"=================================\")\n",
        "a1.setName('Anna Kavan')\n",
        "a1.addBook('Ice', 'Science Fiction')\n",
        "a1.printDetail()\n",
        "print(\"=================================\")\n",
        "a2 = Author('Humayun Ahmed')\n",
        "a2.addBook('Onnobhubon', 'Science Fiction')\n",
        "a2.addBook('Megher Upor Bari', 'Horror')\n",
        "print(\"=================================\")\n",
        "a2.printDetail()\n",
        "a2.addBook('Ireena', 'Science Fiction')\n",
        "print(\"=================================\")\n",
        "a2.printDetail()\n",
        "print(\"=================================\")"
      ],
      "metadata": {
        "id": "Xss7F6Fdk5tS"
      },
      "execution_count": null,
      "outputs": []
    },
    {
      "cell_type": "code",
      "source": [
        "class tournament:\n",
        "  def __init__(self,cup,year,venue= None):\n",
        "    self.cup = cup\n",
        "    self.year = year\n",
        "    self.venue = venue\n",
        "    self.team1_goal= 0\n",
        "    self.team2_goal = 0\n",
        "\n",
        "    if venue == None:\n",
        "     print(f'Welcome to {cup} {year}')\n",
        "    if venue != None:\n",
        "      print(f'Welcome to {venue} {cup} {year}')\n",
        "  def newMatch(self,team1,team2,place= \"Maracana stadium\"):\n",
        "    self.team1 = team1\n",
        "    self.team2 = team2\n",
        "    self.place = place\n",
        "    print(f'{team1} facing {team2} at {place}')\n",
        "  def goal(self,goal):\n",
        "    #self.goal = goal\n",
        "    if goal == self.team1:\n",
        "      self.team1_goal += 1\n",
        "    elif self.goal == self.team2:\n",
        "      self.team2_goal +=1\n",
        "    \n",
        "  def currentScore(self):\n",
        "    print(f'{self.team1} {self.team1_goal} - {self.team2_goal} {self.team2}')\n",
        "  def endMatch(self):\n",
        "      return f'Final Whistle: {self.team1} {self.team1_goal} - {self.team2_goal} {self.team2}'\n",
        "\n",
        "\n",
        "\n",
        "worldCup = tournament(\"World Cup\", 2022, \"Qatar\") \n",
        "championsLeague = tournament(\"UEFA Champions League\", 2023)  \n",
        "print(\"1=======================================\")\n",
        "worldCup.newMatch(\"Brazil\", \"Argentina\", \"Al Bayt\")\n",
        "print(worldCup.team1)\n",
        "print(worldCup.team2)\n",
        "worldCup.goal(\"Brazil\")\n",
        "worldCup.currentScore()\n",
        "worldCup.goal(\"Argentina\")\n",
        "worldCup.currentScore()\n",
        "print(\"2=======================================\")\n",
        "worldCup.newMatch(\"Spain\", \"France\", \"Lusail\")\n",
        "worldCup.endMatch()\n",
        "worldCup.currentScore()\n",
        "print(\"3=======================================\")\n",
        "worldCup.newMatch(\"Spain\", \"France\", \"Lusail\")\n",
        "worldCup.goal(\"France\")\n",
        "print(\"4=======================================\")\n",
        "championsLeague.newMatch(\"Bayern Munich\", \"PSG\")\n",
        "championsLeague.endMatch()\n",
        "championsLeague.currentScore()\n",
        "worldCup.endMatch()\n",
        "worldCup.currentScore()\n",
        "print(\"5=======================================\")\n"
      ],
      "metadata": {
        "colab": {
          "base_uri": "https://localhost:8080/"
        },
        "id": "ABJGfFyUJ-A-",
        "outputId": "770e1fdf-1f71-47e7-b76d-ce22d58a50d4"
      },
      "execution_count": 4,
      "outputs": [
        {
          "output_type": "stream",
          "name": "stdout",
          "text": [
            "Welcome to Qatar World Cup 2022\n",
            "Welcome to UEFA Champions League 2023\n",
            "1=======================================\n",
            "Brazil facing Argentina at Al Bayt\n",
            "Brazil\n",
            "Argentina\n",
            "Brazil 1 - 0 Argentina\n",
            "Brazil 1 - 0 Argentina\n",
            "2=======================================\n",
            "Spain facing France at Lusail\n",
            "Spain 1 - 0 France\n",
            "3=======================================\n",
            "Spain facing France at Lusail\n",
            "4=======================================\n",
            "Bayern Munich facing PSG at Maracana stadium\n",
            "Bayern Munich 0 - 0 PSG\n",
            "Spain 1 - 0 France\n",
            "5=======================================\n"
          ]
        }
      ]
    },
    {
      "cell_type": "markdown",
      "source": [
        "Tracing\n"
      ],
      "metadata": {
        "id": "dT_88876_CiP"
      }
    },
    {
      "cell_type": "code",
      "source": [
        "class Test3:\n",
        "    def __init__(self):\n",
        "        self.sum, self.y = 0, 0\n",
        "    def methodA(self):\n",
        "        x, y = 2, 3\n",
        "        msg = [0]\n",
        "        msg[0] = 3\n",
        "        y = self.y + msg[0]\n",
        "        self.methodB(msg, msg[0])\n",
        "        x = self.y + msg[0]\n",
        "        self.sum = x + y + msg[0]\n",
        "        print(x, y, self.sum)\n",
        "    def methodB(self, mg2, mg1):\n",
        "        x = 0\n",
        "        self.y = self.y + mg2[0]\n",
        "        x = x + 33 + mg1\n",
        "        self.sum = self.sum + x + self.y\n",
        "        mg2[0] = self.y + mg1\n",
        "        mg1 = mg1 + x + 2\n",
        "        print(x, self.y, self.sum)\n",
        "\n",
        "t3 = Test3()\n",
        "t3.methodA()\n",
        "t3.methodA()\n",
        "t3.methodA()\n",
        "t3.methodA()\n"
      ],
      "metadata": {
        "colab": {
          "base_uri": "https://localhost:8080/"
        },
        "id": "LN_LumrO_Cyp",
        "outputId": "828f8452-fb1a-48cf-900f-9f52431b1760"
      },
      "execution_count": 16,
      "outputs": [
        {
          "output_type": "stream",
          "name": "stdout",
          "text": [
            "36 3 39\n",
            "9 3 18\n",
            "36 6 60\n",
            "15 6 30\n",
            "36 9 75\n",
            "21 9 42\n",
            "36 12 90\n",
            "27 12 54\n"
          ]
        }
      ]
    },
    {
      "cell_type": "code",
      "source": [
        "class Test5:\n",
        "    def __init__(self):\n",
        "        self.sum, self.y = 0, 0\n",
        "    def methodA(self):    \n",
        "        x = 0\n",
        "        z = 0\n",
        "        while (z < 5):\n",
        "            self.y = self.y + self.sum\n",
        "            x = self.y + 1\n",
        "            print(x, self.y, self.sum)\n",
        "            self.sum = self.sum + self.methodB(x, self.y)\n",
        "            z += 1\n",
        "    def methodB(self, m, n):\n",
        "        x = 0\n",
        "        sum = 0\n",
        "        self.y = self.y + m\n",
        "        x = n - 4\n",
        "        sum = sum + self.y\n",
        "        print(x, self.y, sum)\n",
        "        return self.sum\n",
        "\n",
        "t5 = Test5()\n",
        "t5.methodA()\n"
      ],
      "metadata": {
        "colab": {
          "base_uri": "https://localhost:8080/"
        },
        "id": "nU2Ls9d8B3TR",
        "outputId": "47e28df5-3f45-48b5-f231-b3ad16be6670"
      },
      "execution_count": 17,
      "outputs": [
        {
          "output_type": "stream",
          "name": "stdout",
          "text": [
            "1 0 0\n",
            "-4 1 1\n",
            "2 1 0\n",
            "-3 3 3\n",
            "4 3 0\n",
            "-1 7 7\n",
            "8 7 0\n",
            "3 15 15\n",
            "16 15 0\n",
            "11 31 31\n"
          ]
        }
      ]
    },
    {
      "cell_type": "code",
      "source": [
        "class FinalT6A:\n",
        "    def __init__(self, x, p):\n",
        "        self.temp, self.sum, self.y = 4, 0, 1\n",
        "        self.temp += 1\n",
        "        self.y = self.temp - p\n",
        "        self.sum = self.temp + x\n",
        "        print(x, self.y, self.sum)\n",
        "    def methodA(self):\n",
        "        x = 0\n",
        "        y = 0 \n",
        "        y = y + self.y\n",
        "        x = self.y + 2 + self.temp\n",
        "        self.sum = x + y + self.methodB(self.temp, y)\n",
        "        print(x, y, self.sum)\n",
        "    def methodB(self, temp, n):\n",
        "        x = 0\n",
        "        temp += 1\n",
        "        self.y = self.y + temp\n",
        "        x = x + 3 + n\n",
        "        self.sum = self.sum + x + self.y\n",
        "        print(x, self.y, self.sum)\n",
        "        return self.sum\n",
        "\n",
        "q1 = FinalT6A(2,1)\n",
        "q1.methodA()\n",
        "q1.methodA()\n"
      ],
      "metadata": {
        "colab": {
          "base_uri": "https://localhost:8080/"
        },
        "id": "kQrkl9gaGwaL",
        "outputId": "56a8f940-3de6-4d4a-9ac1-7200c78687b7"
      },
      "execution_count": 18,
      "outputs": [
        {
          "output_type": "stream",
          "name": "stdout",
          "text": [
            "2 4 7\n",
            "7 10 24\n",
            "11 4 39\n",
            "13 16 68\n",
            "17 10 95\n"
          ]
        }
      ]
    },
    {
      "cell_type": "code",
      "source": [
        "class Test5:\n",
        "  def __init__(self):\n",
        "      self.sum = 0\n",
        "      self.y = 0\n",
        "  def methodA(self):   \n",
        "      x=y=k=0\n",
        "      msg = [5]  \n",
        "      while (k < 2):\n",
        "          y += msg[0]     \n",
        "          x = y + self.methodB(msg, k)\n",
        "          self.sum = x + y + msg[0]\n",
        "          print(x ,\" \" , y, \" \" , self.sum)\n",
        "          k+=1 \n",
        "  def methodB(self, mg2, mg1):\n",
        "        x = 0\n",
        "        self.y += mg2[0]\n",
        "        x = x + 3 + mg1\n",
        "        self.sum += x + self.y\n",
        "        mg2[0] = self.y + mg1\n",
        "        mg1 += x + 2\n",
        "        print(x , \" \" ,self.y, \" \" , self.sum)\n",
        "        return mg1\n",
        "\n",
        "t1 = Test5()\n",
        "t1.methodA()\n",
        "t1.methodA()\n",
        "t1.methodA()\n"
      ],
      "metadata": {
        "colab": {
          "base_uri": "https://localhost:8080/"
        },
        "id": "-CmXYMorIu3x",
        "outputId": "85200ae1-43d2-402f-d1d3-c5c1acbaf0cd"
      },
      "execution_count": 19,
      "outputs": [
        {
          "output_type": "stream",
          "name": "stdout",
          "text": [
            "3   5   8\n",
            "10   5   20\n",
            "4   10   34\n",
            "17   10   38\n",
            "3   15   56\n",
            "10   5   30\n",
            "4   30   64\n",
            "27   20   78\n",
            "3   35   116\n",
            "10   5   50\n",
            "4   70   124\n",
            "47   40   158\n"
          ]
        }
      ]
    },
    {
      "cell_type": "code",
      "source": [
        "class Test4:\n",
        "    def __init__(self):\n",
        "        self.sum, self.y = 0, 0\n",
        "    def methodA(self):\n",
        "        x, y = 0, 0\n",
        "        msg = [0]\n",
        "        msg[0] = 5\n",
        "        y = y + self.methodB(msg[0])\n",
        "        x = y + self.methodB(msg, msg[0])\n",
        "        self.sum = x + y + msg[0]\n",
        "        print(x, y, self.sum)\n",
        "    def methodB(self, *args):\n",
        "        if len(args) == 1:\n",
        "            mg1 = args[0]\n",
        "            x, y = 0, 0\n",
        "            y = y + mg1\n",
        "            x = x + 33 + mg1\n",
        "            self.sum = self.sum + x + y\n",
        "            self.y = mg1 + x + 2\n",
        "            print(x, y, self.sum)\n",
        "            return y\n",
        "        else:\n",
        "            mg2, mg1 = args\n",
        "            x = 0\n",
        "            self.y = self.y + mg2[0]\n",
        "            x = x + 33 + mg1\n",
        "            self.sum = self.sum + x + self.y\n",
        "            mg2[0] = self.y + mg1\n",
        "            mg1 = mg1 + x + 2\n",
        "            print(x, self.y, self.sum)\n",
        "            return self.sum\n",
        "\n",
        "t3 = Test4()\n",
        "t3.methodA()\n",
        "t3.methodA()\n",
        "t3.methodA()\n",
        "t3.methodA()\n"
      ],
      "metadata": {
        "colab": {
          "base_uri": "https://localhost:8080/"
        },
        "id": "f416_5yKLKC5",
        "outputId": "a4901a58-f785-40e1-cc17-14a68b7bf62f"
      },
      "execution_count": 20,
      "outputs": [
        {
          "output_type": "stream",
          "name": "stdout",
          "text": [
            "38 5 43\n",
            "38 50 131\n",
            "136 5 196\n",
            "38 5 239\n",
            "38 50 327\n",
            "332 5 392\n",
            "38 5 435\n",
            "38 50 523\n",
            "528 5 588\n",
            "38 5 631\n",
            "38 50 719\n",
            "724 5 784\n"
          ]
        }
      ]
    },
    {
      "cell_type": "code",
      "source": [
        "class msgClass:\n",
        "    def __init__(self):\n",
        "        self.content = 0 \n",
        "class Q5:\n",
        "    def __init__(self):\n",
        "        self.sum = 1\n",
        "        self.x = 2\n",
        "        self.y = 3 \n",
        "    def methodA(self):\n",
        "        x, y = 1, 1\n",
        "        msg = []\n",
        "        myMsg = msgClass()\n",
        "        myMsg.content = self.x\n",
        "        msg.append(myMsg)\n",
        "        msg[0].content = self.y + myMsg.content\n",
        "        self.y = self.y + self.methodB(msg[0])\n",
        "        y = self.methodB(msg[0]) + self.y\n",
        "        x = y + self.methodB(msg[0], msg)\n",
        "        self.sum = x + y + msg[0].content\n",
        "        print(x,\" \", y,\" \", self.sum)    \n",
        "    def methodB(self, mg1, mg2 = None):\n",
        "        if mg2 == None:\n",
        "            x, y = 5, 6\n",
        "            y = self.sum + mg1.content\n",
        "            self.y = y + mg1.content\n",
        "            x = self.x + 7 +mg1.content\n",
        "            self.sum = self.sum + x + y\n",
        "            self.x = mg1.content + x +8\n",
        "            print(x, \" \", y,\" \", self.sum)\n",
        "            return y\n",
        "\n",
        "        else:\n",
        "            x = 1\n",
        "            self.y += mg2[0].content\n",
        "            mg2[0].content = self.y + mg1.content\n",
        "            x = x + 4 + mg1.content\n",
        "            self.sum += x + self.y\n",
        "            mg1.content = self.sum - mg2[0].content\n",
        "            print(self.x, \" \",self.y,\" \", self.sum)\n",
        "            return self.sum\n",
        "\n",
        "q = Q5()\n",
        "q.methodA()\n"
      ],
      "metadata": {
        "colab": {
          "base_uri": "https://localhost:8080/"
        },
        "id": "jvI7GrX3UjIY",
        "outputId": "29dd099a-cc64-499e-8828-4346e083e04d"
      },
      "execution_count": 21,
      "outputs": [
        {
          "output_type": "stream",
          "name": "stdout",
          "text": [
            "14   6   21\n",
            "39   26   86\n",
            "52   36   168\n",
            "225   57   409\n"
          ]
        }
      ]
    }
  ]
}