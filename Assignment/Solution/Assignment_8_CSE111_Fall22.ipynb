{
  "nbformat": 4,
  "nbformat_minor": 0,
  "metadata": {
    "colab": {
      "provenance": []
    },
    "kernelspec": {
      "name": "python3",
      "display_name": "Python 3"
    },
    "language_info": {
      "name": "python"
    }
  },
  "cells": [
    {
      "cell_type": "markdown",
      "source": [
        "Problem 1"
      ],
      "metadata": {
        "id": "yEImMtR8464V"
      }
    },
    {
      "cell_type": "code",
      "source": [
        "class RealNumber:\n",
        "    \n",
        "    def __init__(self, r=0):\n",
        "        self.__realValue = r  \n",
        "    def getRealValue(self):\n",
        "        return self.__realValue\n",
        "    def setRealValue(self, r):\n",
        "        self.__realValue = r\n",
        "    def __str__(self):\n",
        "        return 'RealPart: '+str(self.getRealValue())\n",
        "\n",
        "\n",
        "class ComplexNumber(RealNumber):\n",
        "    def __init__(self,r= 1.0,i=1.0):\n",
        "      super().__init__(float(r))\n",
        "      self.i = float(i)\n",
        "    def __str__(self):\n",
        "      return f'RealPart : {self.getRealValue()}\\nImaginaryPart: {self.i}'\n",
        "cn1 = ComplexNumber()\n",
        "print(cn1)\n",
        "print('---------')\n",
        "cn2 = ComplexNumber(5,7)\n",
        "print(cn2)"
      ],
      "metadata": {
        "colab": {
          "base_uri": "https://localhost:8080/"
        },
        "id": "x8eabwiG5Bqb",
        "outputId": "6bd9a3a2-8b66-4a0a-c160-ba746443a169"
      },
      "execution_count": null,
      "outputs": [
        {
          "output_type": "stream",
          "name": "stdout",
          "text": [
            "RealPart : 1.0\n",
            "ImaginaryPart: 1.0\n",
            "---------\n",
            "RealPart : 5.0\n",
            "ImaginaryPart: 7.0\n"
          ]
        }
      ]
    },
    {
      "cell_type": "markdown",
      "source": [
        "Problem 2"
      ],
      "metadata": {
        "id": "JoBjNLAY5Clx"
      }
    },
    {
      "cell_type": "code",
      "source": [
        "class RealNumber:\n",
        "    def __init__(self, number=0):\n",
        "        self.number = number\n",
        "    def __add__(self, anotherRealNumber):\n",
        "        return self.number + anotherRealNumber.number\n",
        "    def __sub__(self, anotherRealNumber):\n",
        "        return self.number - anotherRealNumber.number\n",
        "    def __str__(self):\n",
        "        return str(self.number)\n",
        "\n",
        "class ComplexNumber(RealNumber):\n",
        "    def __init__(self,n1,n2):\n",
        "        if type(n1) == int:\n",
        "            super().__init__(n1)\n",
        "        else:\n",
        "            super().__init__(n1.number)\n",
        "            \n",
        "        self.img=n2\n",
        "        \n",
        "    def __str__(self):\n",
        "        if str(self.img)[0] == '-':\n",
        "            return str(self.number)+' '+str(self.img)+'i'\n",
        "        else:\n",
        "            return str(self.number)+' + '+str(self.img)+'i'\n",
        "    \n",
        "    def __add__(self,other):\n",
        "        a=super().__add__(other)\n",
        "        c=self.img+other.img\n",
        "        return ComplexNumber(a,c)\n",
        "        \n",
        "    def __sub__(self,other):\n",
        "        b=super().__sub__(other)\n",
        "        d=self.img-other.img\n",
        "        return ComplexNumber(b,d)\n",
        "           \n",
        "r1 = RealNumber(3)\n",
        "r2 = RealNumber(5)\n",
        "print(r1+r2)\n",
        "cn1 = ComplexNumber(2, 1)\n",
        "print(cn1)\n",
        "cn2 = ComplexNumber(r1, 5)\n",
        "print(cn2)\n",
        "cn3 = cn1 + cn2\n",
        "print(cn3)\n",
        "cn4 = cn1 - cn2\n",
        "print(cn4)\n"
      ],
      "metadata": {
        "id": "0wYf_dry5Cz3",
        "colab": {
          "base_uri": "https://localhost:8080/"
        },
        "outputId": "862c5c7e-93ba-4df6-8529-91679b40fbfd"
      },
      "execution_count": 18,
      "outputs": [
        {
          "output_type": "stream",
          "name": "stdout",
          "text": [
            "8\n",
            "2 + 1i\n",
            "3 + 5i\n",
            "5 + 6i\n",
            "-1 -4i\n"
          ]
        }
      ]
    },
    {
      "cell_type": "markdown",
      "source": [
        "Problem 3"
      ],
      "metadata": {
        "id": "JjMmt7GGj0re"
      }
    },
    {
      "cell_type": "code",
      "source": [
        "class Account: \n",
        "    def __init__(self, balance):\n",
        "        self._balance = balance\n",
        "        \n",
        "    def getBalance(self):\n",
        "        return self._balance\n",
        "class CheckingAccount(Account):\n",
        "  numberOfAccount = 0\n",
        "  def __init__(self,balance = 0):\n",
        "    super().__init__(balance)\n",
        "    CheckingAccount.numberOfAccount +=1\n",
        "\n",
        "  def __str__(self):\n",
        "    return f'Account Balance: {float(super().getBalance())}'\n",
        "\n",
        "\n",
        "  \n",
        "\n",
        "\n",
        "    \n",
        "print('Number of Checking Accounts: ', CheckingAccount.numberOfAccount)\n",
        "print(CheckingAccount())\n",
        "print(CheckingAccount(100.00))\n",
        "print(CheckingAccount(200.00))\n",
        "print('Number of Checking Accounts: ', CheckingAccount.numberOfAccount)"
      ],
      "metadata": {
        "colab": {
          "base_uri": "https://localhost:8080/"
        },
        "id": "KpreIlUmgzLR",
        "outputId": "d4275b91-3a78-4cc9-b53a-5e661d285ef8"
      },
      "execution_count": null,
      "outputs": [
        {
          "output_type": "stream",
          "name": "stdout",
          "text": [
            "Number of Checking Accounts:  0\n",
            "Account Balance: 0.0\n",
            "Account Balance: 100.0\n",
            "Account Balance: 200.0\n",
            "Number of Checking Accounts:  3\n"
          ]
        }
      ]
    },
    {
      "cell_type": "markdown",
      "source": [
        "Problem 4"
      ],
      "metadata": {
        "id": "oP8xliWXj2-L"
      }
    },
    {
      "cell_type": "code",
      "source": [
        "class Fruit:\n",
        "    def __init__(self, formalin=False, name=''):\n",
        "        self.__formalin = formalin\n",
        "        self.name = name\n",
        "    \n",
        "    def getName(self):\n",
        "        return self.name\n",
        "    \n",
        "    def hasFormalin(self):\n",
        "        return self.__formalin\n",
        "    \n",
        "class testFruit:\n",
        "    def test(self, f):\n",
        "        print('----Printing Detail----')\n",
        "        if f.hasFormalin():\n",
        "            print('Do not eat the',f.getName(),'.')\n",
        "            print(f)\n",
        "        else:\n",
        "            print('Eat the',f.getName(),'.')\n",
        "            print(f)\n",
        "class Mango(Fruit):\n",
        "    def __init__(self,formalin= True,name= \"Mango\"):\n",
        "      super().__init__(formalin,name)\n",
        "    def __str__(self):\n",
        "      return f'{self.name} is bad for you'\n",
        "\n",
        "\n",
        "class Jackfruit(Fruit):\n",
        "    def __init__(self,formalin= False,name= \"Jack Fruit\"):\n",
        "      super().__init__(formalin,name)\n",
        "    def __str__(self):\n",
        "      return f'{self.name} is good for you'\n",
        "        \n",
        "m = Mango()\n",
        "j = Jackfruit()\n",
        "t1 = testFruit()\n",
        "t1.test(m)\n",
        "t1.test(j)"
      ],
      "metadata": {
        "colab": {
          "base_uri": "https://localhost:8080/"
        },
        "id": "FUbC740Gj3WK",
        "outputId": "174c84af-6115-4169-bb80-b2db10059f3c"
      },
      "execution_count": null,
      "outputs": [
        {
          "output_type": "stream",
          "name": "stdout",
          "text": [
            "----Printing Detail----\n",
            "Do not eat the Mango .\n",
            "Mango is bad for you\n",
            "----Printing Detail----\n",
            "Eat the Jack Fruit .\n",
            "Jack Fruit is good for you\n"
          ]
        }
      ]
    },
    {
      "cell_type": "markdown",
      "source": [
        "Problem 5"
      ],
      "metadata": {
        "id": "RJ3JJJDK5C-R"
      }
    },
    {
      "cell_type": "code",
      "source": [
        "\n",
        "class Exam:\n",
        "    def __init__(self,marks):\n",
        "        self.marks = marks\n",
        "        self.time = 60\n",
        "        \n",
        "    def examSyllabus(self):\n",
        "        return \"Maths , English\"\n",
        "    def examParts(self):\n",
        "        return \"Part 1 - Maths\\nPart 2 - English\\n\"\n",
        "\n",
        "class ScienceExam(Exam):\n",
        "  def __init__(self,marks,time,*parts):\n",
        "    super().__init__(marks)\n",
        "    self.time = time\n",
        "    self.part = super().examSyllabus().split(\" , \") + list(parts)\n",
        "\n",
        "  def __str__(self):\n",
        "    return(f'Marks: {self.marks} Time : {self.time} Number of Parts: {len(self.part)}')\n",
        " \n",
        " \n",
        "  def examSyllabus(self):  \n",
        "    return ', '.join(self.part)\n",
        "\n",
        "  def examParts(self):\n",
        "    temp = ''\n",
        "    for i in range(0, len(self.part)):\n",
        "      temp += f'Part {i+1} - {self.part[i]}\\n'\n",
        "    return temp\n",
        "    \n",
        "    \n",
        "\n",
        "      \n",
        "    \n",
        "    \n",
        "engineering = ScienceExam(100,90,\"Physics\",\"HigherMaths\")\n",
        "print(engineering)\n",
        "print('----------------------------------')\n",
        "print(engineering.examSyllabus())\n",
        "print(engineering.examParts())\n",
        "print('==================================') \n",
        "architecture = ScienceExam(100,120,\"Physics\",\"HigherMaths\",\"Drawing\")\n",
        "print(architecture)\n",
        "print('----------------------------------')\n",
        "print(architecture.examSyllabus())\n",
        "print(architecture.examParts())"
      ],
      "metadata": {
        "colab": {
          "base_uri": "https://localhost:8080/"
        },
        "id": "wlrYScSnlq30",
        "outputId": "a3e78478-3d62-4cee-d6a2-53a39f212984"
      },
      "execution_count": null,
      "outputs": [
        {
          "output_type": "stream",
          "name": "stdout",
          "text": [
            "Marks: 100 Time : 90 Number of Parts: 4\n",
            "----------------------------------\n",
            "Maths, English, Physics, HigherMaths\n",
            "Part 1 - Maths\n",
            "Part 2 - English\n",
            "Part 3 - Physics\n",
            "Part 4 - HigherMaths\n",
            "\n",
            "==================================\n",
            "Marks: 100 Time : 120 Number of Parts: 5\n",
            "----------------------------------\n",
            "Maths, English, Physics, HigherMaths, Drawing\n",
            "Part 1 - Maths\n",
            "Part 2 - English\n",
            "Part 3 - Physics\n",
            "Part 4 - HigherMaths\n",
            "Part 5 - Drawing\n",
            "\n"
          ]
        }
      ]
    },
    {
      "cell_type": "markdown",
      "source": [
        "Problem 6"
      ],
      "metadata": {
        "id": "F07DwDnb60wf"
      }
    },
    {
      "cell_type": "code",
      "source": [
        "class Shape3D:\n",
        "\n",
        "  pi = 3.14159\n",
        "  def __init__(self, name = 'Default', radius = 0):\n",
        "    self._area = 0\n",
        "    self._name = name\n",
        "    self._height = 'No need'\n",
        "    self._radius = radius   \n",
        "\n",
        "  def calc_surface_area(self):\n",
        "    return 2 * Shape3D.pi * self._radius\n",
        "\n",
        "  def __str__(self):\n",
        "      return \"Radius: \"+str(self._radius)\n",
        "\n",
        "class Sphere(Shape3D):\n",
        "  def __init__(self,name,radius):\n",
        "    super().__init__(name,radius)\n",
        "    print(f'Shape name: {self._name}, Area Formula : 4 * pi * r * r')\n",
        "\n",
        "  def __str__(self):\n",
        "    return f'Radius: {self._radius}, Height: {self._height}\\nArea: {self.calc_surface_area()}'\n",
        "    \n",
        "  \n",
        "  def calc_surface_area(self):\n",
        "    return super().calc_surface_area()*2*self._radius\n",
        "\n",
        "class Cylinder(Shape3D):\n",
        "  def __init__(self,name,radius,height):\n",
        "    super().__init__(name,radius)\n",
        "    self._height = height\n",
        "    print(f'Shape name: {self._name}, Area Formula : 2 * pi * r * (r + h)')\n",
        "\n",
        "  def __str__(self):\n",
        "    return f'Radius: {self._radius}, Height: {self._height}\\nArea: {self.calc_surface_area()}'\n",
        "    \n",
        "  def calc_surface_area(self):\n",
        "    return  super().calc_surface_area() *(self._radius+self._height)\n",
        "     \n",
        "\n",
        "sph = Sphere('Sphere', 5)\n",
        "print('----------------------------------')\n",
        "sph.calc_surface_area()\n",
        "print(sph)\n",
        "print('==================================')\n",
        "cyl = Cylinder('Cylinder', 5, 10)\n",
        "print('----------------------------------')\n",
        "cyl.calc_surface_area()\n",
        "print(cyl)\n"
      ],
      "metadata": {
        "colab": {
          "base_uri": "https://localhost:8080/"
        },
        "id": "qx6zrvoT60_g",
        "outputId": "4f7994c2-30b9-4e1f-af77-7c04d33816f2"
      },
      "execution_count": null,
      "outputs": [
        {
          "output_type": "stream",
          "name": "stdout",
          "text": [
            "Shape name: Sphere, Area Formula : 4 * pi * r * r\n",
            "----------------------------------\n",
            "Radius: 5, Height: No need\n",
            "Area: 314.159\n",
            "==================================\n",
            "Shape name: Cylinder, Area Formula : 2 * pi * r * (r + h)\n",
            "----------------------------------\n",
            "Radius: 5, Height: 10\n",
            "Area: 471.2385\n"
          ]
        }
      ]
    },
    {
      "cell_type": "markdown",
      "source": [
        "Problem 7"
      ],
      "metadata": {
        "id": "RNwrkG1e1iDH"
      }
    },
    {
      "cell_type": "code",
      "source": [
        "class PokemonBasic:\n",
        "\n",
        "  def __init__(self, name = 'Default', hp = 0, weakness = 'None', type = 'Unknown'):\n",
        "    self.name = name\n",
        "    self.hit_point = hp\n",
        "    self.weakness = weakness\n",
        "    self.type = type\n",
        "\n",
        "  def get_type(self):\n",
        "    return 'Main type: ' + self.type\n",
        "\n",
        "  def get_move(self):\n",
        "    return 'Basic move: ' + 'Quick Attack'\n",
        "\n",
        "  def __str__(self):\n",
        "    return \"Name: \" + self.name + \", HP: \" + str(self.hit_point) + \", Weakness: \" + self.weakness\n",
        "\n",
        "\n",
        "\n",
        "class PokemonExtra(PokemonBasic):\n",
        "  def __init__(self,name,hp,weakness,type, stype = None , othermove =None ):\n",
        "    super().__init__(name,hp,weakness,type)\n",
        "    self.stype = stype\n",
        "    self.othermove = othermove   \n",
        "\n",
        "  def get_type(self):\n",
        "    if self.stype != None:\n",
        "      return f'{super().get_type()}, Secondary type: {self.stype}'\n",
        "    else:\n",
        "      return super().get_type()\n",
        "\n",
        "  def get_move(self):\n",
        "    if self.othermove != None:\n",
        "      s= ''\n",
        "      for i in  self.othermove:\n",
        "        s+= i\n",
        "        s+= ' '\n",
        "        \n",
        "      return f'{super().get_move()}, Other move: {s}'\n",
        "      \n",
        "    else:\n",
        "      return super().get_move()\n",
        "    \n",
        "\n",
        "print('\\n------------Basic Info:--------------')\n",
        "pk = PokemonBasic()\n",
        "print(pk)\n",
        "print(pk.get_type())\n",
        "print(pk.get_move())\n",
        "\n",
        "print('\\n------------Pokemon 1 Info:-------------')\n",
        "charmander = PokemonExtra('Charmander', 39, 'Water', 'Fire')\n",
        "print(charmander)\n",
        "print(charmander.get_type())\n",
        "print(charmander.get_move())\n",
        "\n",
        "print('\\n------------Pokemon 2 Info:-------------')\n",
        "charizard = PokemonExtra('Charizard', 78, 'Water', 'Fire', 'Flying', ('Fire Spin', 'Fire Blaze'))\n",
        "print(charizard)\n",
        "print(charizard.get_type())\n",
        "print(charizard.get_move())\n"
      ],
      "metadata": {
        "colab": {
          "base_uri": "https://localhost:8080/"
        },
        "id": "ALIGxtbR1iRW",
        "outputId": "cc5aad69-dd8c-4d1a-afaf-106a58a935bd"
      },
      "execution_count": 16,
      "outputs": [
        {
          "output_type": "stream",
          "name": "stdout",
          "text": [
            "\n",
            "------------Basic Info:--------------\n",
            "Name: Default, HP: 0, Weakness: None\n",
            "Main type: Unknown\n",
            "Basic move: Quick Attack\n",
            "\n",
            "------------Pokemon 1 Info:-------------\n",
            "Name: Charmander, HP: 39, Weakness: Water\n",
            "Main type: Fire\n",
            "Basic move: Quick Attack\n",
            "\n",
            "------------Pokemon 2 Info:-------------\n",
            "Name: Charizard, HP: 78, Weakness: Water\n",
            "Main type: Fire, Secondary type: Flying\n",
            "Basic move: Quick Attack, Other move: Fire Spin Fire Blaze \n"
          ]
        }
      ]
    },
    {
      "cell_type": "markdown",
      "source": [
        "Problem 8"
      ],
      "metadata": {
        "id": "HwZ1rxIt1pXp"
      }
    },
    {
      "cell_type": "code",
      "source": [
        "class Team:\n",
        "\n",
        "    def __init__(self, name):\n",
        "        self.name = \"default\"\n",
        "        self.total_player = 5\n",
        "    def info(self):\n",
        "        print(\"We love sports\")\n",
        "class FootBallTeam(Team):\n",
        "  def __init__(self,name):\n",
        "    self.name = name\n",
        "    self.total_player = 11\n",
        "\n",
        "  def info(self):\n",
        "    print(f'Our name is {self.name}\\nWe play Football')\n",
        "    super().info\n",
        "\n",
        "\n",
        "\n",
        "\n",
        "\n",
        "\n",
        "class CricketTeam(Team):\n",
        "  def __init__(self,name):\n",
        "    self.name = name\n",
        "    self.total_player = 11\n",
        "  def info(self):\n",
        "    print(f'Our name is {self.name}\\nWe play Cricket')\n",
        "    super().info\n",
        "\n",
        "\n",
        "\n",
        "class Team_test:\n",
        "    def check(self, tm):\n",
        "        print(\"=========================\")\n",
        "        print(\"Total Player: \", tm.total_player)\n",
        "        tm.info()\n",
        "\n",
        "f = FootBallTeam(\"Brazil\")\n",
        "c = CricketTeam(\"Bangladesh\")\n",
        "test = Team_test()\n",
        "test.check(f)\n",
        "test.check(c)\n"
      ],
      "metadata": {
        "colab": {
          "base_uri": "https://localhost:8080/"
        },
        "id": "O1CFRZWH1pnK",
        "outputId": "8d66c0a0-dfc2-4d17-92f3-0a147548bae2"
      },
      "execution_count": null,
      "outputs": [
        {
          "output_type": "stream",
          "name": "stdout",
          "text": [
            "=========================\n",
            "Total Player:  11\n",
            "Our name is Brazil\n",
            "We play Football\n",
            "=========================\n",
            "Total Player:  11\n",
            "Our name is Bangladesh\n",
            "We play Cricket\n"
          ]
        }
      ]
    },
    {
      "cell_type": "markdown",
      "source": [
        "Problem 9"
      ],
      "metadata": {
        "id": "ZOuDm7QH1p1a"
      }
    },
    {
      "cell_type": "code",
      "source": [
        "class Pokemon:\n",
        "\n",
        "    def __init__(self, p):\n",
        "        self.pokemon = p\n",
        "        self.pokemon_type = \"Needs to be set\"\n",
        "        self.pokemon_weakness = \"Needs to be set\"\n",
        "    def kind(self):\n",
        "        return self.pokemon_type     \n",
        "    def weakness(self):\n",
        "        return self.pokemon_weakness \n",
        "    def what_am_i(self):\n",
        "        print(\"I am a Pokemon.\")\n",
        "\n",
        "class Pikachu(Pokemon):\n",
        "  def __init__(self,pokemon= 'Pikachu'):\n",
        "    super().__init__(pokemon)\n",
        "\n",
        "  \n",
        "  def kind(self):\n",
        "    return \"Electric\"\n",
        "  def weakness(self):\n",
        "    return \"Ground\"\n",
        "\n",
        "  def what_am_i(self):\n",
        "    super().what_am_i()\n",
        "    print('I am Pikachu.')\n",
        "\n",
        "class Charmander(Pokemon):\n",
        "  def __init__(self,pokemon = 'Charmander'):\n",
        "    super().__init__(pokemon)\n",
        "\n",
        "  def kind(self):\n",
        "    return \"Fire\"\n",
        "  def weakness(self):\n",
        "    return'Water, Ground and Rock'\n",
        "  def what_am_i(self):\n",
        "     super().what_am_i()\n",
        "     print(\"I am Charmander.\")\n",
        "    \n",
        "\n",
        "\n",
        "\n",
        "\n",
        "pk1 = Pikachu()\n",
        "print(\"Pokemon:\", pk1.pokemon)\n",
        "print(\"Type:\", pk1.kind())\n",
        "print(\"Weakness:\", pk1.weakness())\n",
        "pk1.what_am_i()\n",
        "print(\"========================\")\n",
        "c1 = Charmander()\n",
        "print(\"Pokemon:\", c1.pokemon)\n",
        "print(\"Type:\", c1.kind())\n",
        "print(\"Weakness:\", c1.weakness())\n",
        "c1.what_am_i()\n"
      ],
      "metadata": {
        "colab": {
          "base_uri": "https://localhost:8080/"
        },
        "id": "E-EqBjZR1qE_",
        "outputId": "98f592c5-a884-48f9-a493-4b30c27699f1"
      },
      "execution_count": null,
      "outputs": [
        {
          "output_type": "stream",
          "name": "stdout",
          "text": [
            "Pokemon: Pikachu\n",
            "Type: Electric\n",
            "Weakness: Ground\n",
            "I am a Pokemon.\n",
            "I am Pikachu.\n",
            "========================\n",
            "Pokemon: Charmander\n",
            "Type: Fire\n",
            "Weakness: Water, Ground and Rock\n",
            "I am a Pokemon.\n",
            "I am Charmander.\n"
          ]
        }
      ]
    },
    {
      "cell_type": "markdown",
      "source": [
        "Problem 10"
      ],
      "metadata": {
        "id": "hUX_mY_Y1qhf"
      }
    },
    {
      "cell_type": "code",
      "source": [
        "class Department:\n",
        "    def __init__(self, s):\n",
        "        self.semester = s\n",
        "        self.name = \"Default\"\n",
        "        self.id = -1\n",
        "        \n",
        "    def student_info(self):\n",
        "        print(\"Name:\", self.name)\n",
        "        print(\"ID:\", self.id) \n",
        "        \n",
        "    def courses(self, c1, c2, c3):\n",
        "        print(\"No courses Approved yet!\")\n",
        "\n",
        "class CSE(Department):\n",
        "\n",
        "  def __init__(self,name,id,s):\n",
        "    super().__init__(s)\n",
        "    self.name = name\n",
        "    self.id = id \n",
        "\n",
        "  def student_info(self):\n",
        "    super().student_info()\n",
        "    \n",
        "  def courses(self,c1,c2,c3):\n",
        "    self.c1 = c1\n",
        "    self.c3 = c2\n",
        "    self.c3 = c3\n",
        "    print(f'Courses Approved to this CSE student in {self.semester} semester :\\n{c1}\\n{c2}\\n{c3} ')\n",
        "    \n",
        "    \n",
        "\n",
        "\n",
        "\n",
        "class EEE(Department):\n",
        "  def __init__(self,name,id,s):\n",
        "    super().__init__(s)\n",
        "    self.name = name\n",
        "    self.id = id \n",
        "\n",
        "  def student_info(self):\n",
        "    super().student_info()\n",
        "\n",
        "\n",
        "  def courses(self,c1,c2,c3):\n",
        "    self.c1 = c1\n",
        "    self.c3 = c2\n",
        "    self.c3 = c3\n",
        "    print(f'Courses Approved to this EEE student in {self.semester} semester :\\n{c1}\\n{c2}\\n{c3} ')\n",
        "\n",
        "\n",
        "\n",
        "s1 = CSE(\"Rahim\", 16101328,\"Spring2016\")\n",
        "s1.student_info()\n",
        "s1.courses(\"CSE110\", \"MAT110\", \"ENG101\")\n",
        "print(\"==================\")\n",
        "s2 = EEE(\"Tanzim\", 18101326, \"Spring2018\")\n",
        "s2.student_info()\n",
        "s2.courses(\"Mat110\", \"PHY111\", \"ENG101\")\n",
        "print(\"==================\")\n",
        "s3 = CSE(\"Rudana\", 18101326, \"Fall2017\")\n",
        "s3.student_info()\n",
        "s3.courses(\"CSE111\", \"PHY101\", \"MAT120\")\n",
        "print(\"==================\")\n",
        "s4 = EEE(\"Zainab\", 19201623, \"Summer2019\")\n",
        "s4.student_info()\n",
        "s4.courses(\"EEE201\", \"PHY112\", \"MAT120\")\n"
      ],
      "metadata": {
        "colab": {
          "base_uri": "https://localhost:8080/"
        },
        "id": "9V8TBp1P1qu0",
        "outputId": "874bbeff-dc9b-4b2e-8fc8-c8c0ec196ba5"
      },
      "execution_count": null,
      "outputs": [
        {
          "output_type": "stream",
          "name": "stdout",
          "text": [
            "Name: Rahim\n",
            "ID: 16101328\n",
            "Courses Approved to this CSE student in Spring2016 semester :\n",
            "CSE110\n",
            "MAT110\n",
            "ENG101 \n",
            "==================\n",
            "Name: Tanzim\n",
            "ID: 18101326\n",
            "Courses Approved to this EEE student in Spring2018 semester :\n",
            "Mat110\n",
            "PHY111\n",
            "ENG101 \n",
            "==================\n",
            "Name: Rudana\n",
            "ID: 18101326\n",
            "Courses Approved to this CSE student in Fall2017 semester :\n",
            "CSE111\n",
            "PHY101\n",
            "MAT120 \n",
            "==================\n",
            "Name: Zainab\n",
            "ID: 19201623\n",
            "Courses Approved to this EEE student in Summer2019 semester :\n",
            "EEE201\n",
            "PHY112\n",
            "MAT120 \n"
          ]
        }
      ]
    }
  ]
}