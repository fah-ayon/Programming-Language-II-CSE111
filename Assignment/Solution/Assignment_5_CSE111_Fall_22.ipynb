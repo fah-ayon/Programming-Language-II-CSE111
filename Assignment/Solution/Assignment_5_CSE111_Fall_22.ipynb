{
  "nbformat": 4,
  "nbformat_minor": 0,
  "metadata": {
    "colab": {
      "provenance": []
    },
    "kernelspec": {
      "name": "python3",
      "display_name": "Python 3"
    },
    "language_info": {
      "name": "python"
    }
  },
  "cells": [
    {
      "cell_type": "markdown",
      "source": [
        "Problem 1"
      ],
      "metadata": {
        "id": "PnHFwk9WRVly"
      }
    },
    {
      "cell_type": "code",
      "source": [
        "class Exam:\n",
        "  def __init__(self,value):\n",
        "    self.mark = value\n",
        "  def __add__(self,other):\n",
        "    return Exam(self.mark + other.mark)\n",
        "    \n",
        "\n",
        "Q1 = Exam(int(input(\"Quiz 1 (out of 10): \")))\n",
        "Q2 = Exam(int(input(\"Quiz 2 (out of 10): \")))\n",
        "Lab = Exam(int(input(\"Lab (out of 30): \")))\n",
        "Mid = Exam(int(input(\"Mid (out of 20): \")))\n",
        "Final = Exam(int(input(\"Final (out of 30): \")))\n",
        "total = Q1 + Q2 + Lab + Mid + Final\n",
        "print(\"Total marks: {}\".format(total.mark))\n"
      ],
      "metadata": {
        "colab": {
          "base_uri": "https://localhost:8080/"
        },
        "id": "kAu61SX8RV1k",
        "outputId": "2bdba9c7-e417-4f2d-ba8f-9f7d86a25cde"
      },
      "execution_count": 6,
      "outputs": [
        {
          "output_type": "stream",
          "name": "stdout",
          "text": [
            "Quiz 1 (out of 10): 10\n",
            "Quiz 2 (out of 10): 10\n",
            "Lab (out of 30): 30\n",
            "Mid (out of 20): 20\n",
            "Final (out of 30): 30\n",
            "Total marks: 100\n"
          ]
        }
      ]
    },
    {
      "cell_type": "markdown",
      "source": [
        "Problem 2"
      ],
      "metadata": {
        "id": "-xfPaJLfRV_K"
      }
    },
    {
      "cell_type": "code",
      "source": [
        "class Teacher:\n",
        "  def __init__(self,fac_name,dept):\n",
        "    self.__fac_name= fac_name\n",
        "    self.__dept = dept\n",
        "    self.__lst = []\n",
        "\n",
        "  def addCourse(self,obj):\n",
        "    self.__lst.append(obj.course_name)\n",
        "  def printDetail(self):\n",
        "    print(f'====================================\\nName: {self.__fac_name}\\nDepartment: {self.__dept}\\nList of courses\\n====================================')\n",
        "    for i in self.__lst:\n",
        "      print(i)\n",
        "    print('====================================')\n",
        "\n",
        "class Course:\n",
        "\n",
        "  def __init__(self,course_name):\n",
        "    self.course_name = course_name\n",
        "\n",
        "t1 = Teacher(\"Saad Abdullah\", \"CSE\")\n",
        "t2 = Teacher(\"Mumit Khan\", \"CSE\")\n",
        "t3 = Teacher(\"Sadia Kazi\", \"CSE\")                          \n",
        "c1 = Course(\"CSE 110 Programming Language I\")                           \n",
        "c2 = Course(\"CSE 111 Programming Language-II\")                           \n",
        "c3 = Course(\"CSE 220 Data Structures\")                           \n",
        "c4 = Course(\"CSE 221 Algorithms\")                           \n",
        "c5 = Course(\"CCSE 230 Discrete Mathematics\")                           \n",
        "c6 = Course(\"CSE 310 Object Oriented Programming\")                           \n",
        "c7 = Course(\"CSE 320 Data Communications\")                          \n",
        "c8 = Course(\"CSE 340 Computer Architecture\") \n",
        "t1.addCourse(c1)\n",
        "t1.addCourse(c2)\n",
        "t2.addCourse(c3)\n",
        "t2.addCourse(c4)\n",
        "t2.addCourse(c5)\n",
        "t3.addCourse(c6)\n",
        "t3.addCourse(c7)\n",
        "t3.addCourse(c8)\n",
        "t1.printDetail()\n",
        "t2.printDetail()\n",
        "t3.printDetail()\n"
      ],
      "metadata": {
        "colab": {
          "base_uri": "https://localhost:8080/"
        },
        "id": "v8QITtGDRWD5",
        "outputId": "f05d9d4d-cf04-4b2e-b21d-5849cf9ce47d"
      },
      "execution_count": 7,
      "outputs": [
        {
          "output_type": "stream",
          "name": "stdout",
          "text": [
            "====================================\n",
            "Name: Saad Abdullah\n",
            "Department: CSE\n",
            "List of courses\n",
            "====================================\n",
            "CSE 110 Programming Language I\n",
            "CSE 111 Programming Language-II\n",
            "====================================\n",
            "====================================\n",
            "Name: Mumit Khan\n",
            "Department: CSE\n",
            "List of courses\n",
            "====================================\n",
            "CSE 220 Data Structures\n",
            "CSE 221 Algorithms\n",
            "CCSE 230 Discrete Mathematics\n",
            "====================================\n",
            "====================================\n",
            "Name: Sadia Kazi\n",
            "Department: CSE\n",
            "List of courses\n",
            "====================================\n",
            "CSE 310 Object Oriented Programming\n",
            "CSE 320 Data Communications\n",
            "CSE 340 Computer Architecture\n",
            "====================================\n"
          ]
        }
      ]
    },
    {
      "cell_type": "markdown",
      "source": [
        "Problem 3"
      ],
      "metadata": {
        "id": "J4kUlR5ZRXZC"
      }
    },
    {
      "cell_type": "code",
      "source": [
        "class Team:\n",
        "  def __init__(self,name= None):\n",
        "    self.__name= name\n",
        "    self.__lst = []\n",
        "  def setName(self,cname):\n",
        "    self.__name= cname\n",
        "  def addPlayer(self,name1):\n",
        "    self.__lst.append(name1.p_name)\n",
        "  def printDetail(self):\n",
        "    print(f'=====================\\nTeam:{self.__name}\\nList of Players: ')\n",
        "    print(self.__lst)\n",
        "    print(\"=====================\")\n",
        "class Player:\n",
        "  def __init__(self,p_name):\n",
        "    self.p_name = p_name\n",
        "  \n",
        "  def printDetail(self):\n",
        "    print(f'=====================\\nTeam:{self.__name}\\nList of Players: ')\n",
        "    print(self.__lst)\n",
        "    print(\"=====================\")\n",
        "b = Team()\n",
        "b.setName('Bangladesh')\n",
        "mashrafi = Player(\"Mashrafi\")\n",
        "b.addPlayer(mashrafi)\n",
        "tamim = Player(\"Tamim\")\n",
        "b.addPlayer(tamim)\n",
        "b.printDetail()\n",
        "a = Team(\"Australia\")\n",
        "ponting = Player(\"Ponting\")\n",
        "a.addPlayer(ponting)\n",
        "lee = Player(\"Lee\")\n",
        "a.addPlayer(lee)\n",
        "a.printDetail()\n"
      ],
      "metadata": {
        "colab": {
          "base_uri": "https://localhost:8080/"
        },
        "id": "VbVLmtIVRXhD",
        "outputId": "29ccee30-f6c3-445b-dafa-26bba473e9d4"
      },
      "execution_count": 20,
      "outputs": [
        {
          "output_type": "stream",
          "name": "stdout",
          "text": [
            "=====================\n",
            "Team:Bangladesh\n",
            "List of Players: \n",
            "['Mashrafi', 'Tamim']\n",
            "=====================\n",
            "=====================\n",
            "Team:Australia\n",
            "List of Players: \n",
            "['Ponting', 'Lee']\n",
            "=====================\n"
          ]
        }
      ]
    },
    {
      "cell_type": "markdown",
      "source": [
        "Problem 4\n"
      ],
      "metadata": {
        "id": "Xty8hIgtRXnp"
      }
    },
    {
      "cell_type": "code",
      "source": [
        "class Color:\n",
        "  def __init__(self,clr_n):\n",
        "    self.clr = clr_n\n",
        "    self.n_clr = \" \"\n",
        "  def __add__(self,other):\n",
        "    if self.clr == \"red\" and other.clr == \"yellow\":\n",
        "      self.n_clr = \"Orange\"\n",
        "    if self.clr == \"red\" and other.clr == \"blue\":\n",
        "      self.n_clr = \"Violet\"\n",
        "    if self.clr == \"yellow\" and other.clr == \"blue\":\n",
        "      self.n_clr = \"Green\"\n",
        "      \n",
        "    C3= Color(self.n_clr)\n",
        "    return C3\n",
        "\n",
        "      \n",
        "\n",
        "C1 = Color(input(\"First Color: \").lower())\n",
        "C2 = Color(input(\"Second Color: \").lower())\n",
        "C3 = C1 + C2\n",
        "print(\"Color formed:\", C3.clr)\n"
      ],
      "metadata": {
        "colab": {
          "base_uri": "https://localhost:8080/"
        },
        "id": "dIWGwoCzRXtU",
        "outputId": "01cb11d1-c1a6-4f19-e883-7c3a0b5a68c1"
      },
      "execution_count": 27,
      "outputs": [
        {
          "output_type": "stream",
          "name": "stdout",
          "text": [
            "First Color: red\n",
            "Second Color: blue\n",
            "Color formed: Violet\n"
          ]
        }
      ]
    },
    {
      "cell_type": "markdown",
      "source": [
        "Problem 5"
      ],
      "metadata": {
        "id": "mLSUavL5RXzT"
      }
    },
    {
      "cell_type": "code",
      "source": [
        "class Circle:\n",
        "  def __init__(self,rd):\n",
        "    self.__rd= rd\n",
        "  def setRadius(self,val):\n",
        "    self.__rd = val\n",
        "  def getRadius(self):\n",
        "    return self.__rd\n",
        "  def area(self):\n",
        "    self.__area= 3.1416*(self.__rd**2)\n",
        "    return self.__area\n",
        "  def __add__(self,other):\n",
        "    val = self.__rd + other.__rd\n",
        "    return Circle(val)\n",
        "  \n",
        "c1 = Circle(4)\n",
        "print(\"First circle radius:\" , c1.getRadius())\n",
        "print(\"First circle area:\" , c1.area())\n",
        " \n",
        "c2 = Circle(5)\n",
        "print(\"Second circle radius:\" , c2.getRadius())\n",
        "print(\"Second circle area:\" , c2.area())\n",
        " \n",
        "c3 = c1 + c2 \n",
        "print(\"Third circle radius:\" , c3.getRadius())\n",
        "print(\"Third circle area:\" , c3.area())\n"
      ],
      "metadata": {
        "colab": {
          "base_uri": "https://localhost:8080/"
        },
        "id": "p4mPCA60RX4i",
        "outputId": "1913a7df-be5e-4f7f-cfe7-12df974004f4"
      },
      "execution_count": 30,
      "outputs": [
        {
          "output_type": "stream",
          "name": "stdout",
          "text": [
            "First circle radius: 4\n",
            "First circle area: 50.2656\n",
            "Second circle radius: 5\n",
            "Second circle area: 78.53999999999999\n",
            "Third circle radius: 9\n",
            "Third circle area: 254.46959999999999\n"
          ]
        }
      ]
    },
    {
      "cell_type": "markdown",
      "source": [
        "Problem 6"
      ],
      "metadata": {
        "id": "fGtfIL0qRX-B"
      }
    },
    {
      "cell_type": "code",
      "source": [
        "class Triangle:\n",
        "  def __init__(self,base,height):\n",
        "    self.__base = base\n",
        "    self.__height = height\n",
        "\n",
        "  def setBase(self,val):\n",
        "    self.__base = val\n",
        "  def setHeight(self,val1):\n",
        "    self._height = val1\n",
        "  def getBase(self):\n",
        "    return self.__base\n",
        "  def getHeight(self):\n",
        "    return self.__height\n",
        "  def area(self):\n",
        "    self.__area = 0.5*self.__base*self.__height\n",
        "    return self.__area\n",
        "  def __sub__(self,other):\n",
        "    val2 = self.__base - other.__base\n",
        "    val3 = self.__height - other.__height\n",
        "    return Triangle(val2,val3)\n",
        "\n",
        "\n",
        "\n",
        "t1 = Triangle(10, 5)\n",
        "print(\"First Triangle Base:\" , t1.getBase())\n",
        "print(\"First Triangle Height:\" , t1.getHeight())\n",
        "print(\"First Triangle area:\" ,t1.area())\n",
        " \n",
        "t2 = Triangle(5, 3)\n",
        "print(\"Second Triangle Base:\" , t2.getBase())\n",
        "print(\"Second Triangle Height:\" , t2.getHeight())\n",
        "print(\"Second Triangle area:\" ,t2.area())\n",
        " \n",
        "t3 = t1 - t2 \n",
        "print(\"Third Triangle Base:\" , t3.getBase())\n",
        "print(\"Third Triangle Height:\" , t3.getHeight())\n",
        "print(\"Third Triangle area:\" ,t3.area()) \n"
      ],
      "metadata": {
        "colab": {
          "base_uri": "https://localhost:8080/"
        },
        "id": "i63OW1jHRYIx",
        "outputId": "cc6b9289-3bb8-44d0-a506-644bd5acbe76"
      },
      "execution_count": 39,
      "outputs": [
        {
          "output_type": "stream",
          "name": "stdout",
          "text": [
            "First Triangle Base: 10\n",
            "First Triangle Height: 5\n",
            "First Triangle area: 25.0\n",
            "Second Triangle Base: 5\n",
            "Second Triangle Height: 3\n",
            "Second Triangle area: 7.5\n",
            "Third Triangle Base: 5\n",
            "Third Triangle Height: 2\n",
            "Third Triangle area: 5.0\n"
          ]
        }
      ]
    },
    {
      "cell_type": "markdown",
      "source": [
        "Problem 7\n"
      ],
      "metadata": {
        "id": "u3HLDxpYRZTh"
      }
    },
    {
      "cell_type": "code",
      "source": [
        "class Dolls:\n",
        "  def __init__(self,name,price):\n",
        "    self.name = name\n",
        "    self.price = price\n",
        "  def detail(self):\n",
        "    return(f\"Doll: {self.name}\\nTotal Price: {self.price}\")\n",
        "  def __gt__(self,other):\n",
        "    return self.price > other.price\n",
        "  def __add__(self,other):\n",
        "    val = self.price + other.price\n",
        "    return Dolls(\"Duck Bugs Bunny\",val)\n",
        "\n",
        "obj_1 = Dolls(\"Tweety\", 2500)\n",
        "print(obj_1.detail())\n",
        "if obj_1 > obj_1:\n",
        "    print(\"Congratulations! You get the Tweety as a gift!\")\n",
        "else:\n",
        "    print(\"Thank you!\")\n",
        "\n",
        "print(\"=========================\")\n",
        "obj_2 = Dolls(\"Daffy Duck\", 1800) \n",
        "print(obj_2.detail())\n",
        "if obj_2 > obj_1:\n",
        "    print(\"Congratulations! You get the Tweety as a gift!\")\n",
        "else:\n",
        "    print(\"Thank you!\")\n",
        "\n",
        "print(\"=========================\")\n",
        "obj_3 = Dolls(\"Bugs Bunny\", 3000)\n",
        "print(obj_3.detail())\n",
        "if obj_3 > obj_1:\n",
        "    print(\"Congratulations! You get the Tweety as a gift!\")\n",
        "else:\n",
        "    print(\"Thank you!\")\n",
        "\n",
        "print(\"=========================\")\n",
        "obj_4 = Dolls(\"Porky Pig\", 1500)\n",
        "print(obj_4.detail())\n",
        "if obj_4 > obj_1:\n",
        "    print(\"Congratulations! You get the Tweety as a gift!\")\n",
        "else:\n",
        "    print(\"Thank you!\")\n",
        "\n",
        "print(\"=========================\")\n",
        "obj_5 = obj_2 + obj_3\n",
        "print(obj_5.detail())\n",
        "if obj_5 > obj_1:\n",
        "    print(\"Congratulations! You get the Tweety as a gift!\")\n",
        "else:\n",
        "    print(\"Thank you!\")\n"
      ],
      "metadata": {
        "colab": {
          "base_uri": "https://localhost:8080/"
        },
        "id": "CWMNk5p4RZbc",
        "outputId": "1212ed73-6e9d-4adb-fd43-24b56953087d"
      },
      "execution_count": 46,
      "outputs": [
        {
          "output_type": "stream",
          "name": "stdout",
          "text": [
            "Doll: Tweety\n",
            "Total Price: 2500\n",
            "Thank you!\n",
            "=========================\n",
            "Doll: Daffy Duck\n",
            "Total Price: 1800\n",
            "Thank you!\n",
            "=========================\n",
            "Doll: Bugs Bunny\n",
            "Total Price: 3000\n",
            "Congratulations! You get the Tweety as a gift!\n",
            "=========================\n",
            "Doll: Porky Pig\n",
            "Total Price: 1500\n",
            "Thank you!\n",
            "=========================\n",
            "Doll: Duck Bugs Bunny\n",
            "Total Price: 4800\n",
            "Congratulations! You get the Tweety as a gift!\n"
          ]
        }
      ]
    },
    {
      "cell_type": "markdown",
      "source": [
        "Problem 8\n"
      ],
      "metadata": {
        "id": "lwwW_UaXRZiO"
      }
    },
    {
      "cell_type": "code",
      "source": [
        "class Coordinates:\n",
        "  def __init__(self,x,y):\n",
        "    self.x = x\n",
        "    self.y = y\n",
        "\n",
        "  def __add__(self,other):\n",
        "    self.val1 = self.x + other.x\n",
        "    self.val2 = self.y + other.y\n",
        "    return Coordinates(self.val1,self.val2)\n",
        "  def __sub__(self,other):\n",
        "    self.val1 = self.x-other.x\n",
        "    self.val2 = self.y-other.y\n",
        "    return Coordinates(self.val1,self.val2)\n",
        "  def __mul__(self,other):\n",
        "    self.val1 = self.x * other.x\n",
        "    self.val2= self.y * other.y\n",
        "    return Coordinates(self.val1,self.val2)\n",
        "  def detail(self):\n",
        "    return (f'({str(self.x)},{str(self.y)})')\n",
        "  def __eq__(self,other):\n",
        "    if self.x == other.x and self.y == other.y:\n",
        "      return('The calculated coordinates are the same.')\n",
        "    else:\n",
        "      return(\"The calculated coordinates are NOT the same.\")\n",
        "\n",
        "\n",
        "p1 = Coordinates(int(input()),int(input()))\n",
        "p2 = Coordinates(int(input()),int(input()))\n",
        "\n",
        "p4 = p1 - p2 \n",
        "print(p4.detail())\n",
        "\n",
        "p5 = p1 * p2\n",
        "print(p5.detail())\n",
        "\n",
        "point_check = (p4 == p5)\n",
        "print(point_check)\n"
      ],
      "metadata": {
        "colab": {
          "base_uri": "https://localhost:8080/"
        },
        "id": "Ge9DdwmURZqK",
        "outputId": "7ce3a100-67b3-4508-8b5b-c2610c1458c7"
      },
      "execution_count": 52,
      "outputs": [
        {
          "output_type": "stream",
          "name": "stdout",
          "text": [
            "0\n",
            "0\n",
            "0\n",
            "0\n",
            "(0,0)\n",
            "(0,0)\n",
            "The calculated coordinates are the same.\n"
          ]
        }
      ]
    }
  ]
}